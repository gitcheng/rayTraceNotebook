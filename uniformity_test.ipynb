{
 "metadata": {
  "name": ""
 },
 "nbformat": 3,
 "nbformat_minor": 0,
 "worksheets": [
  {
   "cells": [
    {
     "cell_type": "code",
     "collapsed": true,
     "input": [
      "import numpy as np\n",
      "import pylab as P\n",
      "from pycrysray import *\n",
      "arr = np.array"
     ],
     "language": "python",
     "metadata": {},
     "outputs": [],
     "prompt_number": 30
    },
    {
     "cell_type": "code",
     "collapsed": false,
     "input": [
      "# Geometry\n",
      "center= arr([0,0,5.5])\n",
      "dims = arr([3,3,11])/2.0\n",
      "ref= {'random_reflect' : 0.00,\n",
      "      'diffuse_reflect': 0.99,\n",
      "      'diffuse_sigma'  : 10 } \n",
      "plist = rect_prism(center, dims, **ref)\n",
      "# Sensor box\n",
      "dx = 0.5 / 2\n",
      "dy = 1.0 / 2\n",
      "z= 0.0\n",
      "p_apd1= arr([[0.5-dx,dy,z],[0.5+dx,dy,z],[0.5+dx,-dy,z],[0.5-dx,-dy,z]])\n",
      "p_apd2= arr([[-0.5-dx,dy,z],[-0.5+dx,dy,z],[-0.5+dx,-dy,z],[-0.5-dx,-dy,z]])\n",
      "P.plot(p_apd1[:,0],p_apd1[:,1])\n",
      "P.plot(p_apd2[:,0],p_apd2[:,1])\n",
      "P.xlim(-1.5,1.5)\n",
      "P.ylim(-1.5,1.5)\n",
      "\n",
      "sensor= {'random_reflect' : 0.0,\n",
      "         'diffuse_reflect': 0.0,\n",
      "         'diffuse_sigma'  : 0.0,\n",
      "         'sensitive' : True} \n",
      "apd1= Plane(p_apd1, **sensor)\n",
      "apd2= Plane(p_apd2, **sensor)\n",
      "sensors = [apd1, apd2]"
     ],
     "language": "python",
     "metadata": {},
     "outputs": [
      {
       "output_type": "display_data",
       "png": "[encoded data removed]"
      }
     ],
     "prompt_number": 31
    },
    {
     "cell_type": "code",
     "collapsed": false,
     "input": [
      "np.random.seed(31416)\n",
      "nphs= 1000   # number of photons\n",
      "mfp = 1000   # mean free path\n",
      "eff = []     # efficiency\n",
      "for z in arange(1.0, 10.1, 1.0):\n",
      "    # photon origin location. Z is fixed, (x,y) randomized over a square\n",
      "    ox = np.random.random( nphs ) *2 -1   # -1,+1\n",
      "    oy = np.random.random( nphs ) *2 -1   # -1,+1\n",
      "    oz = np.ones( nphs )*z\n",
      "    orig = arr([ox,oy,oz]).transpose()\n",
      "    # randomize angles\n",
      "    cth = np.random.uniform(-1,1, nphs)\n",
      "    phi = np.random.uniform(-np.pi,np.pi, nphs)\n",
      "    sth = np.sqrt(1-cth**2)\n",
      "    xdir = sth * np.cos(phi)\n",
      "    ydir = sth * np.sin(phi)\n",
      "    zdir = cth\n",
      "    dir = arr([xdir, ydir, zdir]).transpose()\n",
      "    # create photons\n",
      "    nhits = 0\n",
      "    for oo, dd in zip(orig,dir):\n",
      "        ph = Photon(x=oo, dir=dd, mfp=mfp)\n",
      "        hit = None\n",
      "        while ( ph.alive ):\n",
      "            hit = ph.propagate(plist, black_regions=sensors)\n",
      "        if ( hit!=None):\n",
      "            if ( hit.sensitive ):\n",
      "                nhits= nhits+1\n",
      "    eff.append( float(nhits)/float(nphs) )\n",
      "    print 'nhits = ', nhits, '    eff = ', eff[-1]"
     ],
     "language": "python",
     "metadata": {},
     "outputs": [
      {
       "output_type": "stream",
       "stream": "stdout",
       "text": [
        "nhits =  83     eff =  0.083\n",
        "nhits = "
       ]
      },
      {
       "output_type": "stream",
       "stream": "stdout",
       "text": [
        " 53     eff =  0.053\n",
        "nhits = "
       ]
      },
      {
       "output_type": "stream",
       "stream": "stdout",
       "text": [
        " 62     eff =  0.062\n",
        "nhits = "
       ]
      },
      {
       "output_type": "stream",
       "stream": "stdout",
       "text": [
        " 59     eff =  0.059\n",
        "nhits = "
       ]
      },
      {
       "output_type": "stream",
       "stream": "stdout",
       "text": [
        " 64     eff =  0.064\n",
        "nhits = "
       ]
      },
      {
       "output_type": "stream",
       "stream": "stdout",
       "text": [
        " 46     eff =  0.046\n",
        "nhits = "
       ]
      },
      {
       "output_type": "stream",
       "stream": "stdout",
       "text": [
        " 52     eff =  0.052\n",
        "nhits = "
       ]
      },
      {
       "output_type": "stream",
       "stream": "stdout",
       "text": [
        " 50     eff =  0.05\n",
        "nhits = "
       ]
      },
      {
       "output_type": "stream",
       "stream": "stdout",
       "text": [
        " 44     eff =  0.044\n",
        "nhits = "
       ]
      },
      {
       "output_type": "stream",
       "stream": "stdout",
       "text": [
        " 42     eff =  0.042"
       ]
      }
     ],
     "prompt_number": 32
    },
    {
     "cell_type": "code",
     "collapsed": true,
     "input": [],
     "language": "python",
     "metadata": {},
     "outputs": [],
     "prompt_number": 32
    }
   ],
   "metadata": {}
  }
 ]
}