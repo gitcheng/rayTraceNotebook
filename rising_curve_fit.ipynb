{
 "metadata": {
  "name": "",
  "signature": "sha256:71f8c96e4d61121e60fe42d0f526f2be3f373e770569667227b76b39bb317a07"
 },
 "nbformat": 3,
 "nbformat_minor": 0,
 "worksheets": [
  {
   "cells": [
    {
     "cell_type": "markdown",
     "metadata": {},
     "source": [
      "<h1>Fit to rising curve</h1>"
     ]
    },
    {
     "cell_type": "code",
     "collapsed": false,
     "input": [
      "%matplotlib inline\n",
      "import matplotlib.pyplot as plt"
     ],
     "language": "python",
     "metadata": {},
     "outputs": [],
     "prompt_number": 1
    },
    {
     "cell_type": "code",
     "collapsed": false,
     "input": [
      "import numpy as np\n",
      "import pickle\n",
      "rand = np.random\n",
      "from timing_utilities import *\n",
      "from iminuit import Minuit\n",
      "from probfit import Chi2Regression"
     ],
     "language": "python",
     "metadata": {},
     "outputs": [],
     "prompt_number": 11
    },
    {
     "cell_type": "code",
     "collapsed": false,
     "input": [
      "rectdata= {}\n",
      "for mat in ['lyso','baf2','csi']:\n",
      "    for sur in ['po','ra']:\n",
      "        for lg in [1,2,3]:\n",
      "            key= mat+sur+str(lg)\n",
      "            filename= '../data/timing/time_geom2_rect_%s.npy'%(key)\n",
      "            data = np.load(filename).view(np.recarray)\n",
      "            rectdata[key]= data\n",
      "            print '%s population : %d'%(key,len(data))"
     ],
     "language": "python",
     "metadata": {},
     "outputs": [
      {
       "output_type": "stream",
       "stream": "stdout",
       "text": [
        "lysopo1 population : 40419\n",
        "lysopo2 population : 39786\n",
        "lysopo3 population : 39377\n",
        "lysora1 population : 82434\n",
        "lysora2 population : 75782\n",
        "lysora3 population : 70548\n",
        "baf2po1 population : 89897\n",
        "baf2po2 population : 82104\n",
        "baf2po3 population : 75832\n",
        "baf2ra1 population : 91024\n",
        "baf2ra2 population : 83570\n",
        "baf2ra3 population : 77349\n",
        "csipo1 population : 42368\n",
        "csipo2 population : 41856\n",
        "csipo3 population : 41232\n",
        "csira1 population : 82529\n",
        "csira2 population : 76030\n",
        "csira3 population : 70352\n"
       ]
      }
     ],
     "prompt_number": 3
    },
    {
     "cell_type": "code",
     "collapsed": false,
     "input": [
      "slapd3mm = pulse_model('../data/SLAPD_RiseTime_20140926.csv', 'time_ns', 'slapd3mm', normtype='peak')\n",
      "apdmodel = fill_pmodel_gaps(slapd3mm, 10)"
     ],
     "language": "python",
     "metadata": {},
     "outputs": [],
     "prompt_number": 263
    },
    {
     "cell_type": "code",
     "collapsed": false,
     "input": [
      "fig= plt.figure()\n",
      "ax= fig.add_subplot(111)\n",
      "draw_pulse_samples(ax, rectdata['baf2ra3'].t, npe0= 10000, scinttau= 0.9, jittersigma= 0.1, noise= 100, pulsemodel= apdmodel, \n",
      "                   n=1, color='b', alpha=1, marker='o')\n",
      "plt.xlim(10,25)"
     ],
     "language": "python",
     "metadata": {},
     "outputs": [
      {
       "metadata": {},
       "output_type": "pyout",
       "prompt_number": 275,
       "text": [
        "(10, 25)"
       ]
      },
      {
       "metadata": {},
       "output_type": "display_data",
       "png": "[encoded data removed]",
       "text": [
        "<matplotlib.figure.Figure at 0x115b26a10>"
       ]
      }
     ],
     "prompt_number": 275
    },
    {
     "cell_type": "code",
     "collapsed": false,
     "input": [
      "rand.seed(0)\n",
      "tevent= event_pulse(rectdata['baf2ra3'].t, npe0=10000, scinttau= 0.9, jittersigma= 0.1, noise= 100, pulsemodel= apdmodel)"
     ],
     "language": "python",
     "metadata": {},
     "outputs": [],
     "prompt_number": 284
    },
    {
     "cell_type": "code",
     "collapsed": false,
     "input": [
      "imax= np.argmax(tevent.p)\n",
      "print imax, tevent.t[imax]\n",
      "imax= imax"
     ],
     "language": "python",
     "metadata": {},
     "outputs": [
      {
       "output_type": "stream",
       "stream": "stdout",
       "text": [
        "692 17.31\n"
       ]
      }
     ],
     "prompt_number": 285
    },
    {
     "cell_type": "code",
     "collapsed": false,
     "input": [
      "plt.plot(tevent.t[:imax], tevent.p[:imax], '.')"
     ],
     "language": "python",
     "metadata": {},
     "outputs": [
      {
       "metadata": {},
       "output_type": "pyout",
       "prompt_number": 286,
       "text": [
        "[<matplotlib.lines.Line2D at 0x115acddd0>]"
       ]
      },
      {
       "metadata": {},
       "output_type": "display_data",
       "png": "[encoded data removed]",
       "text": [
        "<matplotlib.figure.Figure at 0x11595ff50>"
       ]
      }
     ],
     "prompt_number": 286
    },
    {
     "cell_type": "code",
     "collapsed": false,
     "input": [
      "xt = tevent.t\n",
      "pulse = tevent.p\n",
      "fthreshold= 0.1\n",
      "idxmax = find_nearest_index(pulse, pulse.max())\n",
      "threshold = pulse.max() * fthreshold\n",
      "# rising part\n",
      "prise = pulse[:idxmax]\n",
      "tpr = xt[:idxmax]"
     ],
     "language": "python",
     "metadata": {},
     "outputs": [],
     "prompt_number": 287
    },
    {
     "cell_type": "code",
     "collapsed": false,
     "input": [
      "print idxmax, pulse.max()"
     ],
     "language": "python",
     "metadata": {},
     "outputs": [
      {
       "output_type": "stream",
       "stream": "stdout",
       "text": [
        "692 9487.05997398\n"
       ]
      }
     ],
     "prompt_number": 288
    },
    {
     "cell_type": "code",
     "collapsed": false,
     "input": [
      "jt = find_nearest_index(prise, threshold)\n",
      "j1 = max(0, jt-10)\n",
      "j2 = min(jt+10, idxmax)"
     ],
     "language": "python",
     "metadata": {},
     "outputs": [],
     "prompt_number": 293
    },
    {
     "cell_type": "code",
     "collapsed": false,
     "input": [
      "plt.plot(tpr, prise,'-')\n",
      "plt.plot(tpr[j1:j2], prise[j1:j2], 'o')\n",
      "plt.plot([0,18],[threshold,threshold])\n",
      "plt.xlim(13.5,14.5)\n",
      "plt.ylim(0,2000)"
     ],
     "language": "python",
     "metadata": {},
     "outputs": [
      {
       "metadata": {},
       "output_type": "pyout",
       "prompt_number": 294,
       "text": [
        "(0, 2000)"
       ]
      },
      {
       "metadata": {},
       "output_type": "display_data",
       "png": "[encoded data removed]",
       "text": [
        "<matplotlib.figure.Figure at 0x115dae4d0>"
       ]
      }
     ],
     "prompt_number": 294
    },
    {
     "cell_type": "code",
     "collapsed": false,
     "input": [
      "def poly1(x, a0, a1):\n",
      "    return a0+x*a1\n",
      "def poly2(x, a0, a1, a2):\n",
      "    return a0+x*(a1+x*a2)\n",
      "def poly3(x, a0, a1, a2, a3):\n",
      "    return a0+x*(a1+x*(a2+x*a3))\n",
      "def poly4(x, a0, a1, a2, a3, a4):\n",
      "    return a0+x*(a1+x*(a2+x*(a3+x*a4)))\n",
      "def poly5(x, a0, a1, a2, a3, a4, a5):\n",
      "    return a0+x*(a1+x*(a2+x*(a3+x*(a4+x*a5))))"
     ],
     "language": "python",
     "metadata": {},
     "outputs": [],
     "prompt_number": 210
    },
    {
     "cell_type": "code",
     "collapsed": false,
     "input": [
      "x2reg= Chi2Regression(poly3, tpr[j1:j2], prise[j1:j2])#, error=np.sqrt(np.abs(prise[j1:j2])))\n",
      "m= Minuit(x2reg, print_level=0, pedantic=False)"
     ],
     "language": "python",
     "metadata": {},
     "outputs": [],
     "prompt_number": 221
    },
    {
     "cell_type": "code",
     "collapsed": false,
     "input": [
      "m.migrad()"
     ],
     "language": "python",
     "metadata": {},
     "outputs": [
      {
       "metadata": {},
       "output_type": "pyout",
       "prompt_number": 222,
       "text": [
        "({'hesse_failed': False, 'has_reached_call_limit': False, 'has_accurate_covar': True, 'has_posdef_covar': True, 'up': 1.0, 'edm': 4.716586755680601e-09, 'is_valid': True, 'is_above_max_edm': False, 'has_covariance': True, 'has_made_posdef_covar': False, 'has_valid_parameters': True, 'fval': 35500.119761240654, 'nfcn': 161},\n",
        " [{'is_const': False, 'name': 'a0', 'has_limits': False, 'value': 533774.3529325264, 'number': 0L, 'has_lower_limit': False, 'upper_limit': 0.0, 'lower_limit': 0.0, 'has_upper_limit': False, 'error': 3.181125093144549, 'is_fixed': False},\n",
        "  {'is_const': False, 'name': 'a1', 'has_limits': False, 'value': -102923.5182302546, 'number': 1L, 'has_lower_limit': False, 'upper_limit': 0.0, 'lower_limit': 0.0, 'has_upper_limit': False, 'error': 0.30387850211147893, 'is_fixed': False},\n",
        "  {'is_const': False, 'name': 'a2', 'has_limits': False, 'value': 6362.462172068391, 'number': 2L, 'has_lower_limit': False, 'upper_limit': 0.0, 'lower_limit': 0.0, 'has_upper_limit': False, 'error': 0.021711280993345683, 'is_fixed': False},\n",
        "  {'is_const': False, 'name': 'a3', 'has_limits': False, 'value': -123.38826001265247, 'number': 3L, 'has_lower_limit': False, 'upper_limit': 0.0, 'lower_limit': 0.0, 'has_upper_limit': False, 'error': 0.0011734935868697746, 'is_fixed': False}])"
       ]
      }
     ],
     "prompt_number": 222
    },
    {
     "cell_type": "code",
     "collapsed": false,
     "input": [
      "x2reg.draw(m);"
     ],
     "language": "python",
     "metadata": {},
     "outputs": [
      {
       "metadata": {},
       "output_type": "display_data",
       "png": "[encoded data removed]",
       "text": [
        "<matplotlib.figure.Figure at 0x1155a8490>"
       ]
      }
     ],
     "prompt_number": 223
    },
    {
     "cell_type": "code",
     "collapsed": false,
     "input": [
      "print m.values\n",
      "c = [m.values['a3'],m.values['a2'],m.values['a1'], m.values['a0']]\n",
      "c[-1]-= threshold\n",
      "print c"
     ],
     "language": "python",
     "metadata": {},
     "outputs": [
      {
       "output_type": "stream",
       "stream": "stdout",
       "text": [
        "{'a1': -102923.5182302546, 'a0': 533774.3529325264, 'a3': -123.38826001265247, 'a2': 6362.462172068391}\n",
        "[-123.38826001265247, 6362.462172068391, -102923.5182302546, 532838.47286412609]\n"
       ]
      }
     ],
     "prompt_number": 239
    },
    {
     "cell_type": "code",
     "collapsed": false,
     "input": [
      "np.roots(c)"
     ],
     "language": "python",
     "metadata": {},
     "outputs": [
      {
       "metadata": {},
       "output_type": "pyout",
       "prompt_number": 240,
       "text": [
        "array([ 25.47548955,  13.84981867,  12.23925855])"
       ]
      }
     ],
     "prompt_number": 240
    },
    {
     "cell_type": "code",
     "collapsed": false,
     "input": [
      "apdmodel.dtype"
     ],
     "language": "python",
     "metadata": {},
     "outputs": [
      {
       "metadata": {},
       "output_type": "pyout",
       "prompt_number": 241,
       "text": [
        "dtype([('t', '<f8'), ('p', '<f8')])"
       ]
      }
     ],
     "prompt_number": 241
    },
    {
     "cell_type": "code",
     "collapsed": false,
     "input": [
      "def fill_gaps(x, y, ndivs=10, dtype=None):\n",
      "    '''\n",
      "    Insert points by dividing each consecutive pair into *ndivs* using linear interpolation for a set of (*x*, *y*), \n",
      "    and return a recarray with dtype = *dtype*\n",
      "    '''\n",
      "    if len(x)!= len(y):\n",
      "        raise ValueError('Input x and y must have the same length')\n",
      "    ntotal = (len(x)-1)*ndivs + 1\n",
      "    xf = np.zeros(ntotal)\n",
      "    yf = np.zeros(ntotal)\n",
      "    for j in xrange(len(x)-1):\n",
      "        x1, x2= x[j], x[j+1]\n",
      "        y1, y2= y[j], y[j+1]\n",
      "        dx = (x2-x1)/float(ndivs)\n",
      "        dy = (y2-y1)/float(ndivs)\n",
      "        for k in xrange(ndivs):\n",
      "            xf[j*ndivs+k]= x1 + k*dx\n",
      "            yf[j*ndivs+k]= y1 + k*dy\n",
      "    xf[-1]= x[-1]\n",
      "    yf[-1]= y[-1]\n",
      "    if dtype is None:\n",
      "        dtype= dtype([('x', '<f8'), ('y', '<f8')])\n",
      "    retval= np.array(zip(xf,yf), dtype= dtype).view(np.recarray)\n",
      "    return retval"
     ],
     "language": "python",
     "metadata": {},
     "outputs": [],
     "prompt_number": 247
    },
    {
     "cell_type": "code",
     "collapsed": false,
     "input": [
      "def fill_pmodel_gaps(pmodel, ndivs):\n",
      "    return fill_gaps(pmodel.t, pmodel.p, ndivs, pmodel.dtype)"
     ],
     "language": "python",
     "metadata": {},
     "outputs": [],
     "prompt_number": 262
    },
    {
     "cell_type": "code",
     "collapsed": false,
     "input": [
      "nmodel = fill_gaps(apdmodel.t, apdmodel.p, dtype=apdmodel.dtype)"
     ],
     "language": "python",
     "metadata": {},
     "outputs": [],
     "prompt_number": 248
    },
    {
     "cell_type": "code",
     "collapsed": false,
     "input": [
      "len(nmodel)"
     ],
     "language": "python",
     "metadata": {},
     "outputs": [
      {
       "metadata": {},
       "output_type": "pyout",
       "prompt_number": 249,
       "text": [
        "8031"
       ]
      }
     ],
     "prompt_number": 249
    },
    {
     "cell_type": "code",
     "collapsed": false,
     "input": [
      "plt.plot(nmodel.t, nmodel.p, '.')\n",
      "plt.plot(apdmodel.t, apdmodel.p, 'o')\n",
      "plt.xlim(12,14)"
     ],
     "language": "python",
     "metadata": {},
     "outputs": [
      {
       "metadata": {},
       "output_type": "pyout",
       "prompt_number": 258,
       "text": [
        "(12, 14)"
       ]
      },
      {
       "metadata": {},
       "output_type": "display_data",
       "png": "[encoded data removed]",
       "text": [
        "<matplotlib.figure.Figure at 0x11593c4d0>"
       ]
      }
     ],
     "prompt_number": 258
    },
    {
     "cell_type": "code",
     "collapsed": false,
     "input": [
      "plt.plot(nmodel.t)"
     ],
     "language": "python",
     "metadata": {},
     "outputs": [
      {
       "metadata": {},
       "output_type": "pyout",
       "prompt_number": 257,
       "text": [
        "[<matplotlib.lines.Line2D at 0x11592bad0>]"
       ]
      },
      {
       "metadata": {},
       "output_type": "display_data",
       "png": "[encoded data removed]",
       "text": [
        "<matplotlib.figure.Figure at 0x115860410>"
       ]
      }
     ],
     "prompt_number": 257
    },
    {
     "cell_type": "code",
     "collapsed": false,
     "input": [],
     "language": "python",
     "metadata": {},
     "outputs": []
    }
   ],
   "metadata": {}
  }
 ]
}