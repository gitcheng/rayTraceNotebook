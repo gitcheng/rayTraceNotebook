{
 "metadata": {
  "name": "",
  "signature": "sha256:fd77a159dc110866e3ab5c2bc3cdef746623ce5dfffa1538d68e23dbee1901f5"
 },
 "nbformat": 3,
 "nbformat_minor": 0,
 "worksheets": [
  {
   "cells": [
    {
     "cell_type": "markdown",
     "metadata": {},
     "source": [
      "<h1>Photon collection efficiencies</h1>\n",
      "\n",
      "For geometries defined in <b><code>geometry_collection2.ipynb</code></b>"
     ]
    },
    {
     "cell_type": "code",
     "collapsed": false,
     "input": [
      "%matplotlib inline\n",
      "import matplotlib.pyplot as plt"
     ],
     "language": "python",
     "metadata": {},
     "outputs": [],
     "prompt_number": 1
    },
    {
     "cell_type": "code",
     "collapsed": false,
     "input": [
      "import numpy as np\n",
      "#from IPython.display import display_latex\n",
      "from IPython.display import display_html\n",
      "from IPython.display import Latex"
     ],
     "language": "python",
     "metadata": {},
     "outputs": [],
     "prompt_number": 66
    },
    {
     "cell_type": "heading",
     "level": 2,
     "metadata": {},
     "source": [
      "<h2>Get efficiencies from log files</h2>"
     ]
    },
    {
     "cell_type": "code",
     "collapsed": false,
     "input": [
      "def get_eff_from_log(fname, tag='efficiency='):\n",
      "    '''\n",
      "    Get the efficiency from a text/log file by getting the number right after\n",
      "    *tag*\n",
      "    '''\n",
      "    eff= None\n",
      "    f= open(fname, 'r')\n",
      "    for gl in f:\n",
      "        fields = gl.split()\n",
      "        if tag in fields:\n",
      "            idx = fields.index(tag)+1\n",
      "            while idx < len(fields):\n",
      "                try:\n",
      "                    eff= float(fields[idx])\n",
      "                    break\n",
      "                except:\n",
      "                    pass\n",
      "                idx+= 1\n",
      "        if eff is not None:\n",
      "            break\n",
      "    f.close()\n",
      "    return eff"
     ],
     "language": "python",
     "metadata": {},
     "outputs": [],
     "prompt_number": 31
    },
    {
     "cell_type": "code",
     "collapsed": false,
     "input": [
      "eff_hex={}\n",
      "for mat in ['lyso','baf2','csi']:\n",
      "    for sur in ['po','ra']:\n",
      "        for sd in ['3','9']:\n",
      "            key= mat+sur+sd\n",
      "            logname= '../log/timing/time_geom2_hex_%s.log'%(key)\n",
      "            eff_hex[key]= get_eff_from_log(logname)\n",
      "eff_rect={}\n",
      "for mat in ['lyso','baf2','csi']:\n",
      "    for sur in ['po','ra']:\n",
      "        for lg in [1,2,3]:\n",
      "            key= mat+sur+str(lg)\n",
      "            logname= '../log/timing/time_geom2_rect_%s.log'%(key)\n",
      "            eff_rect[key]= get_eff_from_log(logname)"
     ],
     "language": "python",
     "metadata": {},
     "outputs": [],
     "prompt_number": 40
    },
    {
     "cell_type": "code",
     "collapsed": false,
     "input": [
      "table1=u'''\n",
      "<table>\n",
      "<tr><td>Surface</td><td>Polished</td><td>Polished</td><td>Roughened</td><td>Roughened</td></tr>\n",
      "<tr><td>Sensor</td><td>2x 9mmX9mm </td><td>2x 3mmX3mm </td><td>2x 9mmX9mm </td><td>2x 3mmX3mm </td></tr>\n",
      "'''\n",
      "cnames=dict(lyso='LYSO', baf2='BaF2', csi='CsI')\n",
      "for mat in ['lyso','baf2','csi']:\n",
      "    table1+= '<tr><td>%s</td>'%cnames[mat]\n",
      "    for sur in ['po','ra']:\n",
      "        for sd in ['9','3']:\n",
      "            key= mat+sur+sd\n",
      "            table1+= '<td>%.3f</td>'%(eff_hex[key])\n",
      "    table1+= '</tr>\\n'\n",
      "table1+= '</table>\\n'"
     ],
     "language": "python",
     "metadata": {},
     "outputs": [],
     "prompt_number": 101
    },
    {
     "cell_type": "code",
     "collapsed": false,
     "input": [
      "table2=u'''\n",
      "<table border=\"0\" rules=\"rows\">\n",
      "<tr><td>Surface</td><td>Polished</td><td>Polished</td><td>Polished</td><td>\n",
      "  Roughened</td><td>Roughened</td><td>Roughened</td></tr>\n",
      "<tr><td>Length</td><td>10 mm</td><td>20 mm</td><td>30 mm</td><td>10 mm</td><td>20 mm</td><td>30 mm</td></tr>\n",
      "'''\n",
      "cnames=dict(lyso='LYSO', baf2='BaF2', csi='CsI')\n",
      "for mat in ['lyso','baf2','csi']:\n",
      "    table2+= '<tr><td>%s</td>'%cnames[mat]\n",
      "    for sur in ['po','ra']:\n",
      "        for lg in [1,2,3]:\n",
      "            key= mat+sur+str(lg)\n",
      "            table2+= '<td>%.3f</td>'%(eff_rect[key])\n",
      "    table2+= '</tr>\\n'\n",
      "table2+= '</table>\\n'"
     ],
     "language": "python",
     "metadata": {},
     "outputs": [],
     "prompt_number": 115
    },
    {
     "cell_type": "code",
     "collapsed": false,
     "input": [
      "print 'photon collection efficiencies for mu2e-like hexagonal bars'\n",
      "display_html(table1, raw=True)"
     ],
     "language": "python",
     "metadata": {},
     "outputs": [
      {
       "output_type": "stream",
       "stream": "stdout",
       "text": [
        "photon collection efficiencies for mu2e-like hexagonal bars\n"
       ]
      },
      {
       "html": [
        "\n",
        "<table>\n",
        "<tr><td>Surface</td><td>Polished</td><td>Polished</td><td>Roughened</td><td>Roughened</td></tr>\n",
        "<tr><td>Sensor</td><td>2x 9mmX9mm </td><td>2x 3mmX3mm </td><td>2x 9mmX9mm </td><td>2x 3mmX3mm </td></tr>\n",
        "<tr><td>LYSO</td><td>0.198</td><td>0.037</td><td>0.247</td><td>0.037</td></tr>\n",
        "<tr><td>BaF2</td><td>0.229</td><td>0.033</td><td>0.206</td><td>0.028</td></tr>\n",
        "<tr><td>CsI</td><td>0.154</td><td>0.025</td><td>0.170</td><td>0.022</td></tr>\n",
        "</table>\n"
       ],
       "metadata": {},
       "output_type": "display_data"
      }
     ],
     "prompt_number": 117
    },
    {
     "cell_type": "code",
     "collapsed": false,
     "input": [
      "print 'photon collection efficiencies for small rectangular prisms'\n",
      "display_html(table2, raw=True)"
     ],
     "language": "python",
     "metadata": {},
     "outputs": [
      {
       "output_type": "stream",
       "stream": "stdout",
       "text": [
        "photon collection efficiencies for small rectangular prisms\n"
       ]
      },
      {
       "html": [
        "\n",
        "<table border=\"0\" rules=\"rows\">\n",
        "<tr><td>Surface</td><td>Polished</td><td>Polished</td><td>Polished</td><td>\n",
        "  Roughened</td><td>Roughened</td><td>Roughened</td></tr>\n",
        "<tr><td>Length</td><td>10 mm</td><td>20 mm</td><td>30 mm</td><td>10 mm</td><td>20 mm</td><td>30 mm</td></tr>\n",
        "<tr><td>LYSO</td><td>0.404</td><td>0.398</td><td>0.394</td><td>0.824</td><td>0.758</td><td>0.705</td></tr>\n",
        "<tr><td>BaF2</td><td>0.899</td><td>0.821</td><td>0.758</td><td>0.910</td><td>0.836</td><td>0.773</td></tr>\n",
        "<tr><td>CsI</td><td>0.424</td><td>0.419</td><td>0.412</td><td>0.825</td><td>0.760</td><td>0.704</td></tr>\n",
        "</table>\n"
       ],
       "metadata": {},
       "output_type": "display_data"
      }
     ],
     "prompt_number": 116
    },
    {
     "cell_type": "code",
     "collapsed": false,
     "input": [],
     "language": "python",
     "metadata": {},
     "outputs": []
    }
   ],
   "metadata": {}
  }
 ]
}