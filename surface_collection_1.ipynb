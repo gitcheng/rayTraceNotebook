{
 "metadata": {
  "name": "",
  "signature": "sha256:1b261bb7d73d74fbfd75c6d9ca8d0df611bf2a519cb0720334bdf0660d490ed2"
 },
 "nbformat": 3,
 "nbformat_minor": 0,
 "worksheets": [
  {
   "cells": [
    {
     "cell_type": "markdown",
     "metadata": {},
     "source": [
      "<h1>Surface collection</h1>\n",
      "\n",
      "Define a few surfaces. To use it, just import everything\n",
      "\n",
      "[1]: from surface_collection_1 import *"
     ]
    },
    {
     "cell_type": "code",
     "collapsed": false,
     "input": [
      "import numpy as np"
     ],
     "language": "python",
     "metadata": {},
     "outputs": [],
     "prompt_number": 1
    },
    {
     "cell_type": "markdown",
     "metadata": {},
     "source": [
      "<h2>Define surface and photon properties </h2>\n",
      "\n",
      "We assume the crystal is tightly wrapped or painted, so the index of refraction is irrelevant. Set the inside and outside the same. The reflection of the surface has two components. One is random reflection. The reflected photon is uniformly distributed over the entire semi-hemisphere. The second component is diffused reflection. The reflected photon follows the law of reflection smeared by a Gaussian distribution. \n",
      "\n",
      "If the photon hits a sensor, it follows the Fresnel's equations of reflection and transmission http://en.wikipedia.org/wiki/Fresnel_equations. The reflection part is calculated using diffused reflection mentioned above.\n",
      "\n",
      "Here we assume the following,\n",
      "\n",
      "For photons reflecting on crystal surface:<br>\n",
      "$\\sigma$ of reflection = 0.1 degree<br>\n",
      "\n",
      "If the photon is transmitted out of the crystal and hit the wrapper:\n",
      "Random reflaction probability = 0.10<br>\n",
      "Diffused reflection probability = 0.89<br>\n",
      "$\\sigma$ of diffused reflection = 20 degrees<br>\n",
      "\n",
      "For photons reflecting in the sensor area<br>\n",
      "Assume photons going from crystal (LYSO $n=1.82$ or BaF2 $n=1.47$, or CsI $n=1.79$) to glass ($n= 1.52$) or air ($n= 1.0$)."
     ]
    },
    {
     "cell_type": "code",
     "collapsed": false,
     "input": [
      "def sensitive_surface(dict_orig, idx_out):\n",
      "    '''\n",
      "    Take a dictionary for a wrapped surface and return a sensitive surface.\n",
      "    *dict_orig*: original surface properties\n",
      "    *idx_out*: index of refraction of the material outside the window\n",
      "    '''\n",
      "    retval= dict_orig.copy()\n",
      "    retval['sensitive']= True\n",
      "    retval['wrapped']= False\n",
      "    retval['idx_refract_out']= idx_out\n",
      "    return retval"
     ],
     "language": "python",
     "metadata": {},
     "outputs": [],
     "prompt_number": 2
    },
    {
     "cell_type": "code",
     "collapsed": false,
     "input": [
      "# Indices of refraction\n",
      "nlyso, nbaf2, nglass, nair, ncsi = 1.82, 1.47, 1.52, 1.0, 1.79\n",
      "# Wrapped surface\n",
      "base_wrap= dict(sigdif_crys=0.1, pdif_crys=1.0, prand_crys=0.0, sigdif_wrap=20, pdif_wrap=0.89, prand_wrap=0.10,\n",
      "                idx_refract_out=nair, sensitive=False, wrapped=True)\n",
      "lyso_wrap= base_wrap.copy()\n",
      "baf2_wrap= base_wrap.copy()\n",
      "csi_wrap= base_wrap.copy()\n",
      "##\n",
      "lyso_wrap['idx_refract_in']= nlyso\n",
      "baf2_wrap['idx_refract_in']= nbaf2\n",
      "csi_wrap['idx_refract_in']= ncsi\n",
      "# sensitive surface\n",
      "lyso_glass= sensitive_surface(lyso_wrap, nglass)\n",
      "baf2_glass= sensitive_surface(baf2_wrap, nglass)\n",
      "csi_glass= sensitive_surface(csi_wrap, nglass)"
     ],
     "language": "python",
     "metadata": {},
     "outputs": [],
     "prompt_number": 3
    }
   ],
   "metadata": {}
  }
 ]
}