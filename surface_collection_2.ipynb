{
 "metadata": {
  "name": "",
  "signature": "sha256:9f82ec137703b6bf56622f880daf1a1590c475c0b619a941c44ea757136c4e65"
 },
 "nbformat": 3,
 "nbformat_minor": 0,
 "worksheets": [
  {
   "cells": [
    {
     "cell_type": "markdown",
     "metadata": {},
     "source": [
      "<h1>Surface collection #2</h1>\n",
      "\n",
      "Define a few surfaces. To use it, just import everything\n",
      "\n",
      "[1]: from surface_collection_2 import *"
     ]
    },
    {
     "cell_type": "code",
     "collapsed": false,
     "input": [
      "import numpy as np"
     ],
     "language": "python",
     "metadata": {},
     "outputs": [],
     "prompt_number": 1
    },
    {
     "cell_type": "markdown",
     "metadata": {},
     "source": [
      "<h2>Define surface and photon properties </h2>\n",
      "\n",
      "We assume the crystal is tightly wrapped or painted, so the index of refraction is irrelevant. Set the inside and outside the same. The reflection of the surface has two components. One is random reflection. The reflected photon is uniformly distributed over the entire semi-hemisphere. The second component is diffused reflection. The reflected photon follows the law of reflection smeared by a Gaussian distribution. \n",
      "\n",
      "If the photon hits a sensor, it follows the Fresnel's equations of reflection and transmission http://en.wikipedia.org/wiki/Fresnel_equations. The reflection part is calculated using diffused reflection mentioned above.\n",
      "\n",
      "Here we assume the following,\n",
      "\n",
      "For photons reflecting on crystal surface:<br>\n",
      "* polished surface: $\\sigma$ of reflection = 0.1 degree<br>\n",
      "* roughened surface: $\\sigma$ of reflection = 20 degree<br>\n",
      "\n",
      "If the photon is transmitted out of the crystal and hit the wrapper:\n",
      "* 10% probability of random reflaction\n",
      "* 89% probability of diffused reflection: $\\sigma$ of diffused reflection = 20 degrees\n",
      "* 1% probability of absorption (disappearance)\n",
      "\n",
      "For photons reflecting in the sensor area<br>\n",
      "Assume photons going from crystal (LYSO $n=1.82$ or BaF2 $n=1.47$, or CsI $n=1.79$) to optical glue ($n= 1.45$)."
     ]
    },
    {
     "cell_type": "code",
     "collapsed": false,
     "input": [
      "def sensitive_surface(dict_orig, idx_out):\n",
      "    '''\n",
      "    Take a dictionary for a wrapped surface and return a sensitive surface.\n",
      "    *dict_orig*: original surface properties\n",
      "    *idx_out*: index of refraction of the material outside the window\n",
      "    '''\n",
      "    retval= dict_orig.copy()\n",
      "    retval['sensitive']= True\n",
      "    retval['wrapped']= False\n",
      "    retval['idx_refract_out']= idx_out\n",
      "    return retval"
     ],
     "language": "python",
     "metadata": {},
     "outputs": [],
     "prompt_number": 2
    },
    {
     "cell_type": "code",
     "collapsed": false,
     "input": [
      "def change_index_in(dict_orig, idx_in):\n",
      "    '''\n",
      "    Take a dictionary for a wrapped surface and change the refractive index inside.\n",
      "    *dict_orig*: original surface properties\n",
      "    *idx_in*: index of refraction of the material inside the crystal\n",
      "    '''\n",
      "    retval= dict_orig.copy()\n",
      "    retval['idx_refract_in']= idx_in\n",
      "    return retval"
     ],
     "language": "python",
     "metadata": {},
     "outputs": [],
     "prompt_number": 3
    },
    {
     "cell_type": "code",
     "collapsed": false,
     "input": [
      "# Indices of refraction\n",
      "nlyso, nbaf2, ncsi = 1.82, 1.47, 1.79\n",
      "nglue = 1.45\n",
      "nair = 1.0\n",
      "# Wrapped surface: polished\n",
      "base_polish= dict(sigdif_crys=0.1, pdif_crys=1.0, prand_crys=0.0, sigdif_wrap=20, pdif_wrap=0.89, prand_wrap=0.10,\n",
      "                    idx_refract_out=nair, sensitive=False, wrapped=True)\n",
      "base_rough= dict(sigdif_crys=20.0, pdif_crys=1.0, prand_crys=0.0, sigdif_wrap=20, pdif_wrap=0.89, prand_wrap=0.10,\n",
      "                    idx_refract_out=nair, sensitive=False, wrapped=True)\n",
      "\n",
      "# polished surface\n",
      "lyso_polish= change_index_in(base_polish, nlyso)\n",
      "baf2_polish= change_index_in(base_polish, nbaf2)\n",
      "csi_polish= change_index_in(base_polish, ncsi)\n",
      "\n",
      "# roughened surface\n",
      "lyso_rough = change_index_in(base_rough, nlyso)\n",
      "baf2_rough = change_index_in(base_rough, nbaf2)\n",
      "csi_rough = change_index_in(base_rough, ncsi)\n",
      "\n",
      "# sensitive surface (polished)\n",
      "lyso_glue= sensitive_surface(lyso_polish, nglue)\n",
      "baf2_glue= sensitive_surface(baf2_polish, nglue)\n",
      "csi_glue= sensitive_surface(csi_polish, nglue)"
     ],
     "language": "python",
     "metadata": {},
     "outputs": [],
     "prompt_number": 4
    },
    {
     "cell_type": "code",
     "collapsed": false,
     "input": [],
     "language": "python",
     "metadata": {},
     "outputs": []
    }
   ],
   "metadata": {}
  }
 ]
}