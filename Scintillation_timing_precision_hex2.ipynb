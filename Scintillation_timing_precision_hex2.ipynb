{
 "metadata": {
  "name": "",
  "signature": "sha256:7952f279f177c54cc17d8e1006e190278792d0317d3640ccb7e9d2d84c0b3ab7"
 },
 "nbformat": 3,
 "nbformat_minor": 0,
 "worksheets": [
  {
   "cells": [
    {
     "cell_type": "markdown",
     "metadata": {},
     "source": [
      "<h1>Scintillation timing precision for hexagonal-cross-section crystal bars</h1>"
     ]
    },
    {
     "cell_type": "markdown",
     "metadata": {},
     "source": [
      "* Use data produced by <b><code>scripts/time\\_geom2\\_hex\\_*.py</code></b>\n",
      "* Geometry defined in <b><code>geometry_collection_2</code></b>"
     ]
    },
    {
     "cell_type": "markdown",
     "metadata": {},
     "source": [
      "Major contributions to scintillation detector timing precision are [Phys. Med. Biol. 59 (2014) 3261]:\n",
      "\n",
      "1. Depth of interaction (DOI): incident particle speed is different from optical photon speed in the scintillator\n",
      "2. Scintillator rise time\n",
      "3. Scintillator decay tie\n",
      "4. Optical photon time dispersion due to variation in path length\n",
      "5. Number of photoelectrons detected\n",
      "6. Photodetector time jitter (time diffrence between the creation of the p.e. and the signal pulse)\n",
      "7. Electronic noise\n",
      "8. Trigger threshold model\n",
      "\n",
      "The simulation of ray-tracing with a shower profile includes effects (1. DOI) and (4. time dispersion). The Poisson statistics (5.) can be easily achieved by random sampling. Scintillator rise/decay time (2., 3.) can be modeled with exponentials. Photodetector time jitter (6.) can be model with a Gaussian."
     ]
    },
    {
     "cell_type": "markdown",
     "metadata": {},
     "source": [
      "$\\newcommand{\\Npe}{N_{\\rm p.e.}}\n",
      "\\newcommand{\\Npehat}{\\hat{N}_{\\rm p.e.}}\n",
      "$"
     ]
    },
    {
     "cell_type": "markdown",
     "metadata": {},
     "source": [
      "<h2>Event timing precision</h2>\n",
      "\n",
      "<h3>Simulate one event of incident particle</h3>\n",
      "\n",
      "1. Given $\\Npehat$ the expected number of detected p.e. (energy times p.e./MeV), $\\Npe = {\\rm Poisson}(\\Npe)$.\n",
      "2. Random sample $\\Npe$ arrival times from ray-tracing simulation\n",
      "3. Convolve with the scintillator decay time $e^{-t/\\tau_d}$ (ignoring the scintilattor rise time, which is much smaller than the decay time).\n",
      "4. Convolve with the photodetector time jitter, modeled by a Gaussian.\n",
      "5. Convolve with the photodetector pulse shape model.\n",
      "6. Electronic noise (how?)\n",
      "\n",
      "<h3>Event timing</h3>\n",
      "\n",
      "Set a threshold. Find the point at which the pulse height is the closest the threshold. Use 10 points around that point to fit a linear function and solve for the time at the threshold\n",
      "\n",
      "<h3>Precision</h3>\n",
      "\n",
      "Repeat above steps. Study event timing distribution."
     ]
    },
    {
     "cell_type": "markdown",
     "metadata": {},
     "source": [
      "<h2> Sample </h2>"
     ]
    },
    {
     "cell_type": "code",
     "collapsed": false,
     "input": [
      "%matplotlib inline\n",
      "import matplotlib.pyplot as plt"
     ],
     "language": "python",
     "metadata": {},
     "outputs": [],
     "prompt_number": 1
    },
    {
     "cell_type": "code",
     "collapsed": false,
     "input": [
      "import numpy as np\n",
      "rand = np.random\n",
      "from timing_utilities import *\n",
      "from geometry_collection_2 import *\n",
      "from gen_utilities import *\n",
      "import pickle"
     ],
     "language": "python",
     "metadata": {},
     "outputs": [],
     "prompt_number": 2
    },
    {
     "cell_type": "code",
     "collapsed": false,
     "input": [
      "%load_ext autoreload\n",
      "%autoreload 2"
     ],
     "language": "python",
     "metadata": {},
     "outputs": [],
     "prompt_number": 3
    },
    {
     "cell_type": "markdown",
     "metadata": {},
     "source": [
      "<h2>Geometry</h2>\n",
      "\n",
      "Three crystals: BaF2, LYSO, and CsI bars with a hexagonal cross section. The length is approximately proportional to the radiation length. The cross sections are the same for all three crystals.\n",
      "\n",
      "Defined in geometry_collection_2.py\n",
      "\n",
      "Length: BaF2 20 cm; LYSO 11 cm;  CsI 19 cm.<br>\n",
      "Width of the hexagon (distance between opposite parallel edges)= 3.3 cm.\n",
      "\n",
      "Sensors: two 9 mm X 9 mm, or two 3 mm X 3 mm photosensors."
     ]
    },
    {
     "cell_type": "code",
     "collapsed": false,
     "input": [
      "fig= plt.figure(figsize=(18,10))\n",
      "cnames=dict(lyso='LYSO', baf2='BaF2', csi='CsI')\n",
      "i=0\n",
      "for mat in ['lyso','baf2','csi']:\n",
      "    for sd in ['9','3']:\n",
      "        key = mat+'po'+sd\n",
      "        ax = fig.add_subplot(161+i, projection='3d')\n",
      "        ax.set_title(cnames[mat])\n",
      "        draw_one_crystal(ax, chexes[key])\n",
      "        i+= 1"
     ],
     "language": "python",
     "metadata": {},
     "outputs": [
      {
       "metadata": {},
       "output_type": "display_data",
       "png": "[encoded data removed]",
       "text": [
        "<matplotlib.figure.Figure at 0x1123ccf10>"
       ]
      }
     ],
     "prompt_number": 4
    },
    {
     "cell_type": "code",
     "collapsed": false,
     "input": [
      "# The timing population to sample from\n",
      "hexdata= {}\n",
      "for mat in ['lyso','baf2','csi']:\n",
      "    for sur in ['po','ra']:\n",
      "        for sd in ['3','9']:\n",
      "            key= mat+sur+sd\n",
      "            filename= '../data/timing/time_geom2_hex_%s.npy'%(key)\n",
      "            data = np.load(filename).view(np.recarray)\n",
      "            hexdata[key]= data\n",
      "            print '%s population : %d'%(key,len(data))"
     ],
     "language": "python",
     "metadata": {},
     "outputs": [
      {
       "output_type": "stream",
       "stream": "stdout",
       "text": [
        "lysopo3 population : 7428\n",
        "lysopo9 population : 39591\n",
        "lysora3 population : 7409\n",
        "lysora9 population : 49482\n",
        "baf2po3 population : 6599\n",
        "baf2po9 population : 45815\n",
        "baf2ra3 population : 5533\n",
        "baf2ra9 population : 41283\n",
        "csipo3 population : 4900\n",
        "csipo9 population : 30868\n",
        "csira3 population : 4408\n",
        "csira9 population : 33999\n"
       ]
      }
     ],
     "prompt_number": 5
    },
    {
     "cell_type": "markdown",
     "metadata": {},
     "source": [
      "<h2>APD pulse model</h2>"
     ]
    },
    {
     "cell_type": "code",
     "collapsed": false,
     "input": [
      "slapd9mm = pulse_model('../data/SLAPD_RiseTime_20140926.csv', 'time_ns', 'slapd9mm', normtype='peak')\n",
      "stdapd9mm = pulse_model('../data/SLAPD_RiseTime_20140926.csv', 'time_ns', 'stdapd9mm', normtype='peak')\n",
      "slapd3mm = pulse_model('../data/SLAPD_RiseTime_20140926.csv', 'time_ns', 'slapd3mm', normtype='peak')\n",
      "# Fill in points using linear interpolation\n",
      "slapd9mm = fill_pmodel_gaps(slapd9mm, ndivs=5)\n",
      "stdapd9mm = fill_pmodel_gaps(stdapd9mm, ndivs=5)\n",
      "slapd3mm = fill_pmodel_gaps(slapd3mm, ndivs=5)"
     ],
     "language": "python",
     "metadata": {},
     "outputs": [],
     "prompt_number": 6
    },
    {
     "cell_type": "code",
     "collapsed": false,
     "input": [
      "plt.plot(slapd9mm.t, slapd9mm.p, label='SL-APD 9mm');\n",
      "plt.plot(slapd9mm.t, stdapd9mm.p, label='STD-APD 9mm');\n",
      "plt.plot(slapd9mm.t, slapd3mm.p, label='SL-APD 3mm');\n",
      "plt.xlim(0,200)\n",
      "plt.ylim(-0.2,1.1)\n",
      "plt.plot([0,200],[0,0], 'k-')\n",
      "plt.legend()\n",
      "plt.xlabel('ns')\n",
      "plt.title('APD response time')"
     ],
     "language": "python",
     "metadata": {},
     "outputs": [
      {
       "metadata": {},
       "output_type": "pyout",
       "prompt_number": 7,
       "text": [
        "<matplotlib.text.Text at 0x112babd50>"
       ]
      },
      {
       "metadata": {},
       "output_type": "display_data",
       "png": "[encoded data removed]",
       "text": [
        "<matplotlib.figure.Figure at 0x112b73d50>"
       ]
      }
     ],
     "prompt_number": 7
    },
    {
     "cell_type": "markdown",
     "metadata": {},
     "source": [
      "<h2>Event pulse samples</h2>\n",
      "\n",
      "Draw a pulse shapes for a few events. We assume the photoelectron ratio is BaF2:LYSO:CsI = 1: 20: 1."
     ]
    },
    {
     "cell_type": "code",
     "collapsed": false,
     "input": [
      "## Scintillator decay time\n",
      "tau_baf2 = 0.9\n",
      "tau_lyso = 40\n",
      "tau_csi = 30\n",
      "## photoelectrons for these samples\n",
      "npe_baf2 = 1000\n",
      "npe_lyso = 20000\n",
      "npe_csi = 1000"
     ],
     "language": "python",
     "metadata": {},
     "outputs": [],
     "prompt_number": 8
    },
    {
     "cell_type": "code",
     "collapsed": false,
     "input": [
      "def draw_one_set(ax, dtpop, scinttau, npe0, pulsemodel, title):\n",
      "    draw_pulse_samples(ax, dtpop, npe0= npe0, scinttau= scinttau, jittersigma= 0.1, noise= 0, pulsemodel= pulsemodel, n=20,\n",
      "                       color='b', alpha=0.2)\n",
      "    ax.set_title(title)"
     ],
     "language": "python",
     "metadata": {},
     "outputs": [],
     "prompt_number": 9
    },
    {
     "cell_type": "markdown",
     "metadata": {},
     "source": [
      "<h3>SL APD 9mm pulse model</h3>"
     ]
    },
    {
     "cell_type": "code",
     "collapsed": false,
     "input": [
      "fig= plt.figure(figsize=(12,3.5))\n",
      "ax= fig.add_subplot(131)\n",
      "draw_one_set(ax, hexdata['baf2po9'].t, tau_baf2, npe_baf2, slapd9mm, 'BaF2')\n",
      "ax= fig.add_subplot(132)\n",
      "draw_one_set(ax, hexdata['lysopo9'].t, tau_lyso, npe_lyso, slapd9mm, 'LYSO')\n",
      "ax= fig.add_subplot(133)\n",
      "draw_one_set(ax, hexdata['csipo9'].t, tau_csi, npe_csi, slapd9mm, 'CsI')"
     ],
     "language": "python",
     "metadata": {},
     "outputs": [
      {
       "metadata": {},
       "output_type": "display_data",
       "png": "[encoded data removed]",
       "text": [
        "<matplotlib.figure.Figure at 0x112ba6d10>"
       ]
      }
     ],
     "prompt_number": 10
    },
    {
     "cell_type": "markdown",
     "metadata": {},
     "source": [
      "<h3>SL APD 3mm pulse model</h3>"
     ]
    },
    {
     "cell_type": "code",
     "collapsed": false,
     "input": [
      "fig= plt.figure(figsize=(12,3.5))\n",
      "ax= fig.add_subplot(131)\n",
      "draw_one_set(ax, hexdata['baf2po3'].t, tau_baf2, npe_baf2, slapd3mm, 'BaF2')\n",
      "ax= fig.add_subplot(132)\n",
      "draw_one_set(ax, hexdata['lysopo3'].t, tau_lyso, npe_lyso, slapd3mm, 'LYSO')\n",
      "ax= fig.add_subplot(133)\n",
      "draw_one_set(ax, hexdata['csipo3'].t, tau_csi, npe_csi, slapd3mm, 'CsI')"
     ],
     "language": "python",
     "metadata": {},
     "outputs": [
      {
       "metadata": {},
       "output_type": "display_data",
       "png": "[encoded data removed]",
       "text": [
        "<matplotlib.figure.Figure at 0x1134e0610>"
       ]
      }
     ],
     "prompt_number": 11
    },
    {
     "cell_type": "markdown",
     "metadata": {},
     "source": [
      "<h3>Standard APD 9mm pulse mode </h3>"
     ]
    },
    {
     "cell_type": "code",
     "collapsed": false,
     "input": [
      "fig= plt.figure(figsize=(12,3.5))\n",
      "ax= fig.add_subplot(131)\n",
      "draw_one_set(ax, hexdata['baf2po9'].t, tau_baf2, npe_baf2, stdapd9mm, 'BaF2')\n",
      "ax= fig.add_subplot(132)\n",
      "draw_one_set(ax, hexdata['lysopo9'].t, tau_lyso, npe_lyso, stdapd9mm, 'LYSO')\n",
      "ax= fig.add_subplot(133)\n",
      "draw_one_set(ax, hexdata['csipo9'].t, tau_csi, npe_csi, stdapd9mm, 'CsI')"
     ],
     "language": "python",
     "metadata": {},
     "outputs": [
      {
       "metadata": {},
       "output_type": "display_data",
       "png": "[encoded data removed]",
       "text": [
        "<matplotlib.figure.Figure at 0x112491750>"
       ]
      }
     ],
     "prompt_number": 12
    },
    {
     "cell_type": "markdown",
     "metadata": {},
     "source": [
      "<h2>Timing precision</h2>\n",
      "\n",
      "Study the event timing precision for three crystals, three photodetector pulse models, and several different numbers of photoelectrons. For each event (accumulation of all photoelectrons), the timing is found by fitting a line around the point where the pulse height is closest to the threshold, and then solving the time at the threshold. The range of the linear fit is 10 points, which corresponds to 2.5 ns. \n",
      "\n",
      "The threshold is set at 10% of the maximum of each event."
     ]
    },
    {
     "cell_type": "code",
     "collapsed": false,
     "input": [
      "fthreshold = 0.1"
     ],
     "language": "python",
     "metadata": {},
     "outputs": [],
     "prompt_number": 13
    },
    {
     "cell_type": "code",
     "collapsed": false,
     "input": [
      "pelist = [10, 30, 100, 300, 1000, 3000, 10000, 30000]\n",
      "staudict = dict(baf2= tau_baf2, lyso= tau_lyso, csi= tau_csi)\n",
      "apdlist = [slapd9mm, slapd3mm, stdapd9mm]\n",
      "apdnames = ['SL-APD9mm', 'SL-APD3mm', 'Std-APD9mm']"
     ],
     "language": "python",
     "metadata": {},
     "outputs": [],
     "prompt_number": 14
    },
    {
     "cell_type": "code",
     "collapsed": false,
     "input": [
      "result= {}\n",
      "for mat in ['lyso','baf2','csi']:\n",
      "    for sur in ['po','ra']:\n",
      "        for sd, apdname, apdmodel in zip(['9','3','9'],apdnames,apdlist):\n",
      "            key = mat+sur+sd\n",
      "            print key, apdname,\n",
      "            tpres = []\n",
      "            tpres_err = []\n",
      "            dtpop = hexdata[key]\n",
      "            for npe in pelist:\n",
      "                print npe,\n",
      "                rand.seed(0)\n",
      "                tot= timing_samples(dtpop.t, npe, staudict[mat], jittersigma= 0.1, pulsemodel= apdmodel,\n",
      "                                    noise=0, fthreshold= fthreshold, n= 1000)\n",
      "                rms= np.sqrt(tot.var())\n",
      "                tpres.append(rms)\n",
      "                tpres_err.append(rms/np.sqrt(2*len(tot)))\n",
      "            print\n",
      "            rkey= key+':'+apdname\n",
      "            result[rkey]= np.array(tpres)\n",
      "            result[rkey+'_err']= np.array(tpres_err)"
     ],
     "language": "python",
     "metadata": {},
     "outputs": [
      {
       "output_type": "stream",
       "stream": "stdout",
       "text": [
        "lysopo9 SL-APD9mm 10 "
       ]
      },
      {
       "output_type": "stream",
       "stream": "stdout",
       "text": [
        "30 "
       ]
      },
      {
       "output_type": "stream",
       "stream": "stdout",
       "text": [
        "100 "
       ]
      },
      {
       "output_type": "stream",
       "stream": "stdout",
       "text": [
        "300 "
       ]
      },
      {
       "output_type": "stream",
       "stream": "stdout",
       "text": [
        "1000 "
       ]
      },
      {
       "output_type": "stream",
       "stream": "stdout",
       "text": [
        "3000 "
       ]
      },
      {
       "output_type": "stream",
       "stream": "stdout",
       "text": [
        "10000 "
       ]
      },
      {
       "output_type": "stream",
       "stream": "stdout",
       "text": [
        "30000\n"
       ]
      },
      {
       "output_type": "stream",
       "stream": "stdout",
       "text": [
        "lysopo3 SL-APD3mm 10 "
       ]
      },
      {
       "output_type": "stream",
       "stream": "stdout",
       "text": [
        "30 "
       ]
      },
      {
       "output_type": "stream",
       "stream": "stdout",
       "text": [
        "100 "
       ]
      },
      {
       "output_type": "stream",
       "stream": "stdout",
       "text": [
        "300 "
       ]
      },
      {
       "output_type": "stream",
       "stream": "stdout",
       "text": [
        "1000 "
       ]
      },
      {
       "output_type": "stream",
       "stream": "stdout",
       "text": [
        "3000 "
       ]
      },
      {
       "output_type": "stream",
       "stream": "stdout",
       "text": [
        "10000 "
       ]
      },
      {
       "output_type": "stream",
       "stream": "stdout",
       "text": [
        "30000\n"
       ]
      },
      {
       "output_type": "stream",
       "stream": "stdout",
       "text": [
        "lysopo9 Std-APD9mm 10 "
       ]
      },
      {
       "output_type": "stream",
       "stream": "stdout",
       "text": [
        "30 "
       ]
      },
      {
       "output_type": "stream",
       "stream": "stdout",
       "text": [
        "100 "
       ]
      },
      {
       "output_type": "stream",
       "stream": "stdout",
       "text": [
        "300 "
       ]
      },
      {
       "output_type": "stream",
       "stream": "stdout",
       "text": [
        "1000 "
       ]
      },
      {
       "output_type": "stream",
       "stream": "stdout",
       "text": [
        "3000 "
       ]
      },
      {
       "output_type": "stream",
       "stream": "stdout",
       "text": [
        "10000 "
       ]
      },
      {
       "output_type": "stream",
       "stream": "stdout",
       "text": [
        "30000\n"
       ]
      },
      {
       "output_type": "stream",
       "stream": "stdout",
       "text": [
        "lysora9 SL-APD9mm 10 "
       ]
      },
      {
       "output_type": "stream",
       "stream": "stdout",
       "text": [
        "30 "
       ]
      },
      {
       "output_type": "stream",
       "stream": "stdout",
       "text": [
        "100 "
       ]
      },
      {
       "output_type": "stream",
       "stream": "stdout",
       "text": [
        "300 "
       ]
      },
      {
       "output_type": "stream",
       "stream": "stdout",
       "text": [
        "1000 "
       ]
      },
      {
       "output_type": "stream",
       "stream": "stdout",
       "text": [
        "3000 "
       ]
      },
      {
       "output_type": "stream",
       "stream": "stdout",
       "text": [
        "10000 "
       ]
      },
      {
       "output_type": "stream",
       "stream": "stdout",
       "text": [
        "30000\n"
       ]
      },
      {
       "output_type": "stream",
       "stream": "stdout",
       "text": [
        "lysora3 SL-APD3mm 10 "
       ]
      },
      {
       "output_type": "stream",
       "stream": "stdout",
       "text": [
        "30 "
       ]
      },
      {
       "output_type": "stream",
       "stream": "stdout",
       "text": [
        "100 "
       ]
      },
      {
       "output_type": "stream",
       "stream": "stdout",
       "text": [
        "300 "
       ]
      },
      {
       "output_type": "stream",
       "stream": "stdout",
       "text": [
        "1000 "
       ]
      },
      {
       "output_type": "stream",
       "stream": "stdout",
       "text": [
        "3000 "
       ]
      },
      {
       "output_type": "stream",
       "stream": "stdout",
       "text": [
        "10000 "
       ]
      },
      {
       "output_type": "stream",
       "stream": "stdout",
       "text": [
        "30000\n"
       ]
      },
      {
       "output_type": "stream",
       "stream": "stdout",
       "text": [
        "lysora9 Std-APD9mm 10 "
       ]
      },
      {
       "output_type": "stream",
       "stream": "stdout",
       "text": [
        "30 "
       ]
      },
      {
       "output_type": "stream",
       "stream": "stdout",
       "text": [
        "100 "
       ]
      },
      {
       "output_type": "stream",
       "stream": "stdout",
       "text": [
        "300 "
       ]
      },
      {
       "output_type": "stream",
       "stream": "stdout",
       "text": [
        "1000 "
       ]
      },
      {
       "output_type": "stream",
       "stream": "stdout",
       "text": [
        "3000 "
       ]
      },
      {
       "output_type": "stream",
       "stream": "stdout",
       "text": [
        "10000 "
       ]
      },
      {
       "output_type": "stream",
       "stream": "stdout",
       "text": [
        "30000\n"
       ]
      },
      {
       "output_type": "stream",
       "stream": "stdout",
       "text": [
        "baf2po9 SL-APD9mm 10 "
       ]
      },
      {
       "output_type": "stream",
       "stream": "stdout",
       "text": [
        "30 "
       ]
      },
      {
       "output_type": "stream",
       "stream": "stdout",
       "text": [
        "100 "
       ]
      },
      {
       "output_type": "stream",
       "stream": "stdout",
       "text": [
        "300 "
       ]
      },
      {
       "output_type": "stream",
       "stream": "stdout",
       "text": [
        "1000 "
       ]
      },
      {
       "output_type": "stream",
       "stream": "stdout",
       "text": [
        "3000 "
       ]
      },
      {
       "output_type": "stream",
       "stream": "stdout",
       "text": [
        "10000 "
       ]
      },
      {
       "output_type": "stream",
       "stream": "stdout",
       "text": [
        "30000\n"
       ]
      },
      {
       "output_type": "stream",
       "stream": "stdout",
       "text": [
        "baf2po3 SL-APD3mm 10 "
       ]
      },
      {
       "output_type": "stream",
       "stream": "stdout",
       "text": [
        "30 "
       ]
      },
      {
       "output_type": "stream",
       "stream": "stdout",
       "text": [
        "100 "
       ]
      },
      {
       "output_type": "stream",
       "stream": "stdout",
       "text": [
        "300 "
       ]
      },
      {
       "output_type": "stream",
       "stream": "stdout",
       "text": [
        "1000 "
       ]
      },
      {
       "output_type": "stream",
       "stream": "stdout",
       "text": [
        "3000 "
       ]
      },
      {
       "output_type": "stream",
       "stream": "stdout",
       "text": [
        "10000 "
       ]
      },
      {
       "output_type": "stream",
       "stream": "stdout",
       "text": [
        "30000\n"
       ]
      },
      {
       "output_type": "stream",
       "stream": "stdout",
       "text": [
        "baf2po9 Std-APD9mm 10 "
       ]
      },
      {
       "output_type": "stream",
       "stream": "stdout",
       "text": [
        "30 "
       ]
      },
      {
       "output_type": "stream",
       "stream": "stdout",
       "text": [
        "100 "
       ]
      },
      {
       "output_type": "stream",
       "stream": "stdout",
       "text": [
        "300 "
       ]
      },
      {
       "output_type": "stream",
       "stream": "stdout",
       "text": [
        "1000 "
       ]
      },
      {
       "output_type": "stream",
       "stream": "stdout",
       "text": [
        "3000 "
       ]
      },
      {
       "output_type": "stream",
       "stream": "stdout",
       "text": [
        "10000 "
       ]
      },
      {
       "output_type": "stream",
       "stream": "stdout",
       "text": [
        "30000\n"
       ]
      },
      {
       "output_type": "stream",
       "stream": "stdout",
       "text": [
        "baf2ra9 SL-APD9mm 10 "
       ]
      },
      {
       "output_type": "stream",
       "stream": "stdout",
       "text": [
        "30 "
       ]
      },
      {
       "output_type": "stream",
       "stream": "stdout",
       "text": [
        "100 "
       ]
      },
      {
       "output_type": "stream",
       "stream": "stdout",
       "text": [
        "300 "
       ]
      },
      {
       "output_type": "stream",
       "stream": "stdout",
       "text": [
        "1000 "
       ]
      },
      {
       "output_type": "stream",
       "stream": "stdout",
       "text": [
        "3000 "
       ]
      },
      {
       "output_type": "stream",
       "stream": "stdout",
       "text": [
        "10000 "
       ]
      },
      {
       "output_type": "stream",
       "stream": "stdout",
       "text": [
        "30000\n"
       ]
      },
      {
       "output_type": "stream",
       "stream": "stdout",
       "text": [
        "baf2ra3 SL-APD3mm 10 "
       ]
      },
      {
       "output_type": "stream",
       "stream": "stdout",
       "text": [
        "30 "
       ]
      },
      {
       "output_type": "stream",
       "stream": "stdout",
       "text": [
        "100 "
       ]
      },
      {
       "output_type": "stream",
       "stream": "stdout",
       "text": [
        "300 "
       ]
      },
      {
       "output_type": "stream",
       "stream": "stdout",
       "text": [
        "1000 "
       ]
      },
      {
       "output_type": "stream",
       "stream": "stdout",
       "text": [
        "3000 "
       ]
      },
      {
       "output_type": "stream",
       "stream": "stdout",
       "text": [
        "10000 "
       ]
      },
      {
       "output_type": "stream",
       "stream": "stdout",
       "text": [
        "30000\n"
       ]
      },
      {
       "output_type": "stream",
       "stream": "stdout",
       "text": [
        "baf2ra9 Std-APD9mm 10 "
       ]
      },
      {
       "output_type": "stream",
       "stream": "stdout",
       "text": [
        "30 "
       ]
      },
      {
       "output_type": "stream",
       "stream": "stdout",
       "text": [
        "100 "
       ]
      },
      {
       "output_type": "stream",
       "stream": "stdout",
       "text": [
        "300 "
       ]
      },
      {
       "output_type": "stream",
       "stream": "stdout",
       "text": [
        "1000 "
       ]
      },
      {
       "output_type": "stream",
       "stream": "stdout",
       "text": [
        "3000 "
       ]
      },
      {
       "output_type": "stream",
       "stream": "stdout",
       "text": [
        "10000 "
       ]
      },
      {
       "output_type": "stream",
       "stream": "stdout",
       "text": [
        "30000\n"
       ]
      },
      {
       "output_type": "stream",
       "stream": "stdout",
       "text": [
        "csipo9 SL-APD9mm 10 "
       ]
      },
      {
       "output_type": "stream",
       "stream": "stdout",
       "text": [
        "30 "
       ]
      },
      {
       "output_type": "stream",
       "stream": "stdout",
       "text": [
        "100 "
       ]
      },
      {
       "output_type": "stream",
       "stream": "stdout",
       "text": [
        "300 "
       ]
      },
      {
       "output_type": "stream",
       "stream": "stdout",
       "text": [
        "1000 "
       ]
      },
      {
       "output_type": "stream",
       "stream": "stdout",
       "text": [
        "3000 "
       ]
      },
      {
       "output_type": "stream",
       "stream": "stdout",
       "text": [
        "10000 "
       ]
      },
      {
       "output_type": "stream",
       "stream": "stdout",
       "text": [
        "30000\n"
       ]
      },
      {
       "output_type": "stream",
       "stream": "stdout",
       "text": [
        "csipo3 SL-APD3mm 10 "
       ]
      },
      {
       "output_type": "stream",
       "stream": "stdout",
       "text": [
        "30 "
       ]
      },
      {
       "output_type": "stream",
       "stream": "stdout",
       "text": [
        "100 "
       ]
      },
      {
       "output_type": "stream",
       "stream": "stdout",
       "text": [
        "300 "
       ]
      },
      {
       "output_type": "stream",
       "stream": "stdout",
       "text": [
        "1000 "
       ]
      },
      {
       "output_type": "stream",
       "stream": "stdout",
       "text": [
        "3000 "
       ]
      },
      {
       "output_type": "stream",
       "stream": "stdout",
       "text": [
        "10000 "
       ]
      },
      {
       "output_type": "stream",
       "stream": "stdout",
       "text": [
        "30000\n"
       ]
      },
      {
       "output_type": "stream",
       "stream": "stdout",
       "text": [
        "csipo9 Std-APD9mm 10 "
       ]
      },
      {
       "output_type": "stream",
       "stream": "stdout",
       "text": [
        "30 "
       ]
      },
      {
       "output_type": "stream",
       "stream": "stdout",
       "text": [
        "100 "
       ]
      },
      {
       "output_type": "stream",
       "stream": "stdout",
       "text": [
        "300 "
       ]
      },
      {
       "output_type": "stream",
       "stream": "stdout",
       "text": [
        "1000 "
       ]
      },
      {
       "output_type": "stream",
       "stream": "stdout",
       "text": [
        "3000 "
       ]
      },
      {
       "output_type": "stream",
       "stream": "stdout",
       "text": [
        "10000 "
       ]
      },
      {
       "output_type": "stream",
       "stream": "stdout",
       "text": [
        "30000\n"
       ]
      },
      {
       "output_type": "stream",
       "stream": "stdout",
       "text": [
        "csira9 SL-APD9mm 10 "
       ]
      },
      {
       "output_type": "stream",
       "stream": "stdout",
       "text": [
        "30 "
       ]
      },
      {
       "output_type": "stream",
       "stream": "stdout",
       "text": [
        "100 "
       ]
      },
      {
       "output_type": "stream",
       "stream": "stdout",
       "text": [
        "300 "
       ]
      },
      {
       "output_type": "stream",
       "stream": "stdout",
       "text": [
        "1000 "
       ]
      },
      {
       "output_type": "stream",
       "stream": "stdout",
       "text": [
        "3000 "
       ]
      },
      {
       "output_type": "stream",
       "stream": "stdout",
       "text": [
        "10000 "
       ]
      },
      {
       "output_type": "stream",
       "stream": "stdout",
       "text": [
        "30000\n"
       ]
      },
      {
       "output_type": "stream",
       "stream": "stdout",
       "text": [
        "csira3 SL-APD3mm 10 "
       ]
      },
      {
       "output_type": "stream",
       "stream": "stdout",
       "text": [
        "30 "
       ]
      },
      {
       "output_type": "stream",
       "stream": "stdout",
       "text": [
        "100 "
       ]
      },
      {
       "output_type": "stream",
       "stream": "stdout",
       "text": [
        "300 "
       ]
      },
      {
       "output_type": "stream",
       "stream": "stdout",
       "text": [
        "1000 "
       ]
      },
      {
       "output_type": "stream",
       "stream": "stdout",
       "text": [
        "3000 "
       ]
      },
      {
       "output_type": "stream",
       "stream": "stdout",
       "text": [
        "10000 "
       ]
      },
      {
       "output_type": "stream",
       "stream": "stdout",
       "text": [
        "30000\n"
       ]
      },
      {
       "output_type": "stream",
       "stream": "stdout",
       "text": [
        "csira9 Std-APD9mm 10 "
       ]
      },
      {
       "output_type": "stream",
       "stream": "stdout",
       "text": [
        "30 "
       ]
      },
      {
       "output_type": "stream",
       "stream": "stdout",
       "text": [
        "100 "
       ]
      },
      {
       "output_type": "stream",
       "stream": "stdout",
       "text": [
        "300 "
       ]
      },
      {
       "output_type": "stream",
       "stream": "stdout",
       "text": [
        "1000 "
       ]
      },
      {
       "output_type": "stream",
       "stream": "stdout",
       "text": [
        "3000 "
       ]
      },
      {
       "output_type": "stream",
       "stream": "stdout",
       "text": [
        "10000 "
       ]
      },
      {
       "output_type": "stream",
       "stream": "stdout",
       "text": [
        "30000\n"
       ]
      }
     ],
     "prompt_number": 15
    },
    {
     "cell_type": "code",
     "collapsed": false,
     "input": [
      "result['npelist'] = pelist"
     ],
     "language": "python",
     "metadata": {},
     "outputs": [],
     "prompt_number": 16
    },
    {
     "cell_type": "code",
     "collapsed": false,
     "input": [
      "pickle.dump(result, open('../data/timing/tprecision_hex_geocolls2.p', 'wb'))"
     ],
     "language": "python",
     "metadata": {},
     "outputs": [],
     "prompt_number": 17
    },
    {
     "cell_type": "code",
     "collapsed": false,
     "input": [
      "result.keys()"
     ],
     "language": "python",
     "metadata": {},
     "outputs": [
      {
       "metadata": {},
       "output_type": "pyout",
       "prompt_number": 18,
       "text": [
        "['csira3:SL-APD3mm',\n",
        " 'lysopo3:SL-APD3mm_err',\n",
        " 'lysora9:Std-APD9mm',\n",
        " 'csira9:Std-APD9mm',\n",
        " 'baf2po3:SL-APD3mm_err',\n",
        " 'baf2po9:SL-APD9mm',\n",
        " 'lysora9:SL-APD9mm_err',\n",
        " 'lysora9:Std-APD9mm_err',\n",
        " 'csipo9:Std-APD9mm',\n",
        " 'csira3:SL-APD3mm_err',\n",
        " 'csipo3:SL-APD3mm_err',\n",
        " 'lysora9:SL-APD9mm',\n",
        " 'csipo9:SL-APD9mm_err',\n",
        " 'csira9:SL-APD9mm_err',\n",
        " 'lysora3:SL-APD3mm_err',\n",
        " 'csipo9:SL-APD9mm',\n",
        " 'lysopo9:SL-APD9mm',\n",
        " 'csipo9:Std-APD9mm_err',\n",
        " 'baf2ra3:SL-APD3mm_err',\n",
        " 'lysora3:SL-APD3mm',\n",
        " 'baf2ra9:Std-APD9mm_err',\n",
        " 'csira9:Std-APD9mm_err',\n",
        " 'lysopo3:SL-APD3mm',\n",
        " 'lysopo9:Std-APD9mm',\n",
        " 'csipo3:SL-APD3mm',\n",
        " 'lysopo9:SL-APD9mm_err',\n",
        " 'csira9:SL-APD9mm',\n",
        " 'baf2po9:Std-APD9mm_err',\n",
        " 'baf2ra9:SL-APD9mm',\n",
        " 'baf2ra9:SL-APD9mm_err',\n",
        " 'baf2ra9:Std-APD9mm',\n",
        " 'baf2po9:SL-APD9mm_err',\n",
        " 'baf2po9:Std-APD9mm',\n",
        " 'baf2ra3:SL-APD3mm',\n",
        " 'npelist',\n",
        " 'baf2po3:SL-APD3mm',\n",
        " 'lysopo9:Std-APD9mm_err']"
       ]
      }
     ],
     "prompt_number": 18
    },
    {
     "cell_type": "code",
     "collapsed": false,
     "input": [],
     "language": "python",
     "metadata": {},
     "outputs": [],
     "prompt_number": 18
    }
   ],
   "metadata": {}
  }
 ]
}