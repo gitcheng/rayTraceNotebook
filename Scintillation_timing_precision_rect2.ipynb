{
 "metadata": {
  "name": "",
  "signature": "sha256:99be0ea84d77c948f376f9f6fa0ef9980f74832efa459b039b9959611c34d28c"
 },
 "nbformat": 3,
 "nbformat_minor": 0,
 "worksheets": [
  {
   "cells": [
    {
     "cell_type": "markdown",
     "metadata": {},
     "source": [
      "<h1>Scintillation timing precision for small rectangular prism crystals</h1>"
     ]
    },
    {
     "cell_type": "markdown",
     "metadata": {},
     "source": [
      "* Use data produced by <b><code>scripts/time\\_geom2\\_rect\\_*.py</code></b>\n",
      "* Geometry defined in <b><code>geometry_collection_2</code></b>"
     ]
    },
    {
     "cell_type": "markdown",
     "metadata": {},
     "source": [
      "Major contributions to scintillation detector timing precision are [Phys. Med. Biol. 59 (2014) 3261]:\n",
      "\n",
      "1. Depth of interaction (DOI): incident particle speed is different from optical photon speed in the scintillator\n",
      "2. Scintillator rise time\n",
      "3. Scintillator decay tie\n",
      "4. Optical photon time dispersion due to variation in path length\n",
      "5. Number of photoelectrons detected\n",
      "6. Photodetector time jitter (time diffrence between the creation of the p.e. and the signal pulse)\n",
      "7. Electronic noise\n",
      "8. Trigger threshold model\n",
      "\n",
      "The simulation of ray-tracing with a shower profile includes effects (1. DOI) and (4. time dispersion). The Poisson statistics (5.) can be easily achieved by random sampling. Scintillator rise/decay time (2., 3.) can be modeled with exponentials. Photodetector time jitter (6.) can be model with a Gaussian."
     ]
    },
    {
     "cell_type": "markdown",
     "metadata": {},
     "source": [
      "$\\newcommand{\\Npe}{N_{\\rm p.e.}}\n",
      "\\newcommand{\\Npehat}{\\hat{N}_{\\rm p.e.}}\n",
      "$"
     ]
    },
    {
     "cell_type": "markdown",
     "metadata": {},
     "source": [
      "<h2>Event timing precision</h2>\n",
      "\n",
      "<h3>Simulate one event of incident particle</h3>\n",
      "\n",
      "1. Given $\\Npehat$ the expected number of detected p.e. (energy times p.e./MeV), $\\Npe = {\\rm Poisson}(\\Npe)$.\n",
      "2. Random sample $\\Npe$ arrival times from ray-tracing simulation\n",
      "3. Convolve with the scintillator decay time $e^{-t/\\tau_d}$ (ignoring the scintilattor rise time, which is much smaller than the decay time).\n",
      "4. Convolve with the photodetector time jitter, modeled by a Gaussian.\n",
      "5. Convolve with the photodetector pulse shape model.\n",
      "6. Electronic noise (how?)\n",
      "\n",
      "<h3>Event timing</h3>\n",
      "\n",
      "Set a threshold. Find the point at which the pulse height is the closest the threshold. Use 10 points around that point to fit a linear function and solve for the time at the threshold\n",
      "\n",
      "<h3>Precision</h3>\n",
      "\n",
      "Repeat above steps. Study event timing distribution."
     ]
    },
    {
     "cell_type": "markdown",
     "metadata": {},
     "source": [
      "<h2> Sample </h2>"
     ]
    },
    {
     "cell_type": "code",
     "collapsed": false,
     "input": [
      "%matplotlib inline\n",
      "import matplotlib.pyplot as plt"
     ],
     "language": "python",
     "metadata": {},
     "outputs": [],
     "prompt_number": 1
    },
    {
     "cell_type": "code",
     "collapsed": false,
     "input": [
      "import numpy as np\n",
      "rand = np.random\n",
      "from timing_utilities import *\n",
      "from geometry_collection_2 import *\n",
      "from gen_utilities import *\n",
      "import pickle"
     ],
     "language": "python",
     "metadata": {},
     "outputs": [],
     "prompt_number": 2
    },
    {
     "cell_type": "code",
     "collapsed": false,
     "input": [
      "%load_ext autoreload\n",
      "%autoreload 2"
     ],
     "language": "python",
     "metadata": {},
     "outputs": [],
     "prompt_number": 3
    },
    {
     "cell_type": "markdown",
     "metadata": {},
     "source": [
      "<h2>Geometry</h2>\n",
      "\n",
      "Three crystals: BaF2, LYSO, and CsI rectangular prisms. \n",
      "\n",
      "Defined in geometry_collection_2.py\n",
      "\n",
      "Three kinds of geometries. All have a cross section of 3mm X 3mm. The lengths are 10mm, 20mm, and 30mm.\n",
      "\n",
      "Sensor: one 3 mm X 3 mm photosensor."
     ]
    },
    {
     "cell_type": "code",
     "collapsed": false,
     "input": [
      "fig= plt.figure(figsize=(10,7))\n",
      "cnames=dict(lyso='LYSO', baf2='BaF2', csi='CsI')\n",
      "i=0\n",
      "for mat in ['lyso']:\n",
      "    for lg in [1,2,3]:\n",
      "        key = mat+'po'+str(lg)\n",
      "        ax = fig.add_subplot(131+i, projection='3d')\n",
      "        draw_one_crystal(ax, crects[key], xlim=(-0.5,0.5), ylim=(-0.5,0.5), zlim=(0,3))\n",
      "        i+= 1"
     ],
     "language": "python",
     "metadata": {},
     "outputs": [
      {
       "metadata": {},
       "output_type": "display_data",
       "png": "[encoded data removed]",
       "text": [
        "<matplotlib.figure.Figure at 0x109d84210>"
       ]
      }
     ],
     "prompt_number": 4
    },
    {
     "cell_type": "code",
     "collapsed": false,
     "input": [
      "rectdata= {}\n",
      "for mat in ['lyso','baf2','csi']:\n",
      "    for sur in ['po','ra']:\n",
      "        for lg in [1,2,3]:\n",
      "            key= mat+sur+str(lg)\n",
      "            filename= '../data/timing/time_geom2_rect_%s.npy'%(key)\n",
      "            data = np.load(filename).view(np.recarray)\n",
      "            rectdata[key]= data\n",
      "            print '%s population : %d'%(key,len(data))"
     ],
     "language": "python",
     "metadata": {},
     "outputs": [
      {
       "output_type": "stream",
       "stream": "stdout",
       "text": [
        "lysopo1 population : 40419\n",
        "lysopo2 population : 39786\n",
        "lysopo3 population : 39377\n",
        "lysora1 population : 82434\n",
        "lysora2 population : 75782\n",
        "lysora3 population : 70548\n",
        "baf2po1 population : 89897\n",
        "baf2po2 population : 82104\n",
        "baf2po3 population : 75832\n",
        "baf2ra1 population : 91024\n",
        "baf2ra2 population : 83570\n",
        "baf2ra3 population : 77349\n",
        "csipo1 population : 42368\n",
        "csipo2 population : 41856\n",
        "csipo3 population : 41232\n",
        "csira1 population : 82529\n",
        "csira2 population : 76030\n",
        "csira3 population : 70352\n"
       ]
      }
     ],
     "prompt_number": 5
    },
    {
     "cell_type": "markdown",
     "metadata": {},
     "source": [
      "<h2>APD pulse model</h2>"
     ]
    },
    {
     "cell_type": "code",
     "collapsed": false,
     "input": [
      "slapd3mm = pulse_model('../data/SLAPD_RiseTime_20140926.csv', 'time_ns', 'slapd3mm', normtype='peak')\n",
      "# linear interpolation to fill in points in the model curve\n",
      "slapd3mm = fill_pmodel_gaps(slapd3mm, ndivs=5)\n",
      "slapd3mm = slapd3mm[slapd3mm.t>=0]\n",
      "#apdmodel = slapd3mm"
     ],
     "language": "python",
     "metadata": {},
     "outputs": [],
     "prompt_number": 6
    },
    {
     "cell_type": "code",
     "collapsed": false,
     "input": [
      "t= slapd3mm.t\n",
      "ps= pulse_shape_simple(t, 6.0, 15.0, 1.0)\n",
      "pream= np.array(zip(t,ps), dtype=slapd3mm.dtype).view(np.recarray)\n",
      "plt.plot(pream.t, pream.p)\n",
      "plt.title('Preamp model');\n",
      "plt.xlabel('ns');"
     ],
     "language": "python",
     "metadata": {},
     "outputs": [
      {
       "metadata": {},
       "output_type": "display_data",
       "png": "[encoded data removed]",
       "text": [
        "<matplotlib.figure.Figure at 0x109d79e90>"
       ]
      }
     ],
     "prompt_number": 7
    },
    {
     "cell_type": "code",
     "collapsed": false,
     "input": [
      "apdmodel= convolve_two_pulse_model(slapd3mm, pream)"
     ],
     "language": "python",
     "metadata": {},
     "outputs": [],
     "prompt_number": 8
    },
    {
     "cell_type": "markdown",
     "metadata": {},
     "source": [
      "<h2>Event pulse samples</h2>\n",
      "\n",
      "Draw a pulse shapes for a few events. We assume the photoelectron ratio is BaF2:LYSO:CsI = 1: 20: 1."
     ]
    },
    {
     "cell_type": "code",
     "collapsed": false,
     "input": [
      "## Scintillator decay time\n",
      "tau_baf2 = 0.9\n",
      "tau_lyso = 40\n",
      "tau_csi = 30\n",
      "## photoelectrons for these samples\n",
      "npe_baf2 = 200\n",
      "npe_lyso = 4000\n",
      "npe_csi = 200"
     ],
     "language": "python",
     "metadata": {},
     "outputs": [],
     "prompt_number": 9
    },
    {
     "cell_type": "code",
     "collapsed": false,
     "input": [
      "def draw_one_set(ax, dtpop, scinttau, npe0, pulsemodel, title):\n",
      "    draw_pulse_samples(ax, dtpop, npe0= npe0, scinttau= scinttau, jittersigma= 0.1, noise= 0, pulsemodel= pulsemodel, n=20,\n",
      "                       color='b', alpha=0.2)\n",
      "    ax.set_title(title)"
     ],
     "language": "python",
     "metadata": {},
     "outputs": [],
     "prompt_number": 10
    },
    {
     "cell_type": "markdown",
     "metadata": {},
     "source": [
      "<h3>10 mm long polished crystals</h3>"
     ]
    },
    {
     "cell_type": "code",
     "collapsed": false,
     "input": [
      "fig= plt.figure(figsize=(12,3.5))\n",
      "ax= fig.add_subplot(131)\n",
      "draw_one_set(ax, rectdata['baf2po1'].t, tau_baf2, npe_baf2, apdmodel, 'BaF2')\n",
      "ax= fig.add_subplot(132)\n",
      "draw_one_set(ax, rectdata['lysopo1'].t, tau_lyso, npe_lyso, apdmodel, 'LYSO')\n",
      "ax= fig.add_subplot(133)\n",
      "draw_one_set(ax, rectdata['csipo1'].t, tau_csi, npe_csi, apdmodel, 'CsI')"
     ],
     "language": "python",
     "metadata": {},
     "outputs": [
      {
       "metadata": {},
       "output_type": "display_data",
       "png": "[encoded data removed]",
       "text": [
        "<matplotlib.figure.Figure at 0x109fcd110>"
       ]
      }
     ],
     "prompt_number": 11
    },
    {
     "cell_type": "markdown",
     "metadata": {},
     "source": [
      "<h3>10 mm long roughened crystals</h3>"
     ]
    },
    {
     "cell_type": "code",
     "collapsed": false,
     "input": [
      "fig= plt.figure(figsize=(12,3.5))\n",
      "ax= fig.add_subplot(131)\n",
      "draw_one_set(ax, rectdata['baf2ra1'].t, tau_baf2, npe_baf2, apdmodel, 'BaF2')\n",
      "ax= fig.add_subplot(132)\n",
      "draw_one_set(ax, rectdata['lysora1'].t, tau_lyso, npe_lyso, apdmodel, 'LYSO')\n",
      "ax= fig.add_subplot(133)\n",
      "draw_one_set(ax, rectdata['csira1'].t, tau_csi, npe_csi, apdmodel, 'CsI')"
     ],
     "language": "python",
     "metadata": {},
     "outputs": [
      {
       "metadata": {},
       "output_type": "display_data",
       "png": "[encoded data removed]",
       "text": [
        "<matplotlib.figure.Figure at 0x109db1d90>"
       ]
      }
     ],
     "prompt_number": 12
    },
    {
     "cell_type": "markdown",
     "metadata": {},
     "source": [
      "<h3>30 mm long polished crystals</h3>"
     ]
    },
    {
     "cell_type": "code",
     "collapsed": false,
     "input": [
      "fig= plt.figure(figsize=(12,3.5))\n",
      "ax= fig.add_subplot(131)\n",
      "draw_one_set(ax, rectdata['baf2po3'].t, tau_baf2, npe_baf2, apdmodel, 'BaF2')\n",
      "ax= fig.add_subplot(132)\n",
      "draw_one_set(ax, rectdata['lysopo3'].t, tau_lyso, npe_lyso, apdmodel, 'LYSO')\n",
      "ax= fig.add_subplot(133)\n",
      "draw_one_set(ax, rectdata['csipo3'].t, tau_csi, npe_csi, apdmodel, 'CsI')"
     ],
     "language": "python",
     "metadata": {},
     "outputs": [
      {
       "metadata": {},
       "output_type": "display_data",
       "png": "[encoded data removed]",
       "text": [
        "<matplotlib.figure.Figure at 0x10c4fa710>"
       ]
      }
     ],
     "prompt_number": 13
    },
    {
     "cell_type": "markdown",
     "metadata": {},
     "source": [
      "<h3>30 mm long roughened crystals</h3>"
     ]
    },
    {
     "cell_type": "code",
     "collapsed": false,
     "input": [
      "fig= plt.figure(figsize=(12,3.5))\n",
      "ax= fig.add_subplot(131)\n",
      "draw_one_set(ax, rectdata['baf2ra3'].t, tau_baf2, npe_baf2, apdmodel, 'BaF2')\n",
      "ax= fig.add_subplot(132)\n",
      "draw_one_set(ax, rectdata['lysora3'].t, tau_lyso, npe_lyso, apdmodel, 'LYSO')\n",
      "ax= fig.add_subplot(133)\n",
      "draw_one_set(ax, rectdata['csira3'].t, tau_csi, npe_csi, apdmodel, 'CsI')"
     ],
     "language": "python",
     "metadata": {},
     "outputs": [
      {
       "metadata": {},
       "output_type": "display_data",
       "png": "[encoded data removed]",
       "text": [
        "<matplotlib.figure.Figure at 0x10c63f810>"
       ]
      }
     ],
     "prompt_number": 14
    },
    {
     "cell_type": "code",
     "collapsed": false,
     "input": [
      "print rectdata['baf2po3'].t.mean(), rectdata['baf2ra3'].t.mean()"
     ],
     "language": "python",
     "metadata": {},
     "outputs": [
      {
       "output_type": "stream",
       "stream": "stdout",
       "text": [
        "0.424658892452 0.452552970021\n"
       ]
      }
     ],
     "prompt_number": 15
    },
    {
     "cell_type": "markdown",
     "metadata": {},
     "source": [
      "<h2>Timing precision</h2>\n",
      "\n",
      "Study the event timing precision for three crystals, three photodetector pulse models, and several different numbers of photoelectrons. For each event (accumulation of all photoelectrons), the timing is found by fitting a line around the point where the pulse height is closest to the threshold, and then solving the time at the threshold. The range of the linear fit is 10 points, which corresponds to 2.5 ns. \n",
      "\n",
      "The threshold is set at 20% of the maximum of each event."
     ]
    },
    {
     "cell_type": "code",
     "collapsed": false,
     "input": [
      "fthreshold = 0.1\n",
      "pelist = [10, 30, 100, 300, 1000, 3000, 10000]\n",
      "staudict = dict(baf2= tau_baf2, lyso= tau_lyso, csi= tau_csi)\n",
      "apdname = 'SL-APD3mm'"
     ],
     "language": "python",
     "metadata": {},
     "outputs": [],
     "prompt_number": 16
    },
    {
     "cell_type": "code",
     "collapsed": false,
     "input": [
      "result= {}\n",
      "for mat in ['lyso','baf2','csi']:\n",
      "    for sur in ['po','ra']:\n",
      "        for lg in [1,2,3]:\n",
      "            key = mat+sur+str(lg)\n",
      "            print key, apdname,\n",
      "            tpres = []\n",
      "            tpres_err = []\n",
      "            dtpop = rectdata[key]\n",
      "            for npe in pelist:\n",
      "                print npe,\n",
      "                rand.seed(0)\n",
      "                tot= timing_samples(dtpop.t, npe, staudict[mat], jittersigma= 0.1, pulsemodel= apdmodel,\n",
      "                                    noise=0, fthreshold= fthreshold, n= 1000)\n",
      "                rms= np.sqrt(tot.var())\n",
      "                tpres.append(rms)\n",
      "                tpres_err.append(rms/np.sqrt(2*len(tot)))\n",
      "            print\n",
      "            rkey= key+':'+apdname\n",
      "            result[rkey]= np.array(tpres)\n",
      "            result[rkey+'_err']= np.array(tpres_err)"
     ],
     "language": "python",
     "metadata": {},
     "outputs": [
      {
       "output_type": "stream",
       "stream": "stdout",
       "text": [
        "lysopo1 SL-APD3mm 10 "
       ]
      },
      {
       "output_type": "stream",
       "stream": "stdout",
       "text": [
        "30 "
       ]
      },
      {
       "output_type": "stream",
       "stream": "stdout",
       "text": [
        "100 "
       ]
      },
      {
       "output_type": "stream",
       "stream": "stdout",
       "text": [
        "300 "
       ]
      },
      {
       "output_type": "stream",
       "stream": "stdout",
       "text": [
        "1000 "
       ]
      },
      {
       "output_type": "stream",
       "stream": "stdout",
       "text": [
        "3000 "
       ]
      },
      {
       "output_type": "stream",
       "stream": "stdout",
       "text": [
        "10000\n"
       ]
      },
      {
       "output_type": "stream",
       "stream": "stdout",
       "text": [
        "lysopo2 SL-APD3mm 10 "
       ]
      },
      {
       "output_type": "stream",
       "stream": "stdout",
       "text": [
        "30 "
       ]
      },
      {
       "output_type": "stream",
       "stream": "stdout",
       "text": [
        "100 "
       ]
      },
      {
       "output_type": "stream",
       "stream": "stdout",
       "text": [
        "300 "
       ]
      },
      {
       "output_type": "stream",
       "stream": "stdout",
       "text": [
        "1000 "
       ]
      },
      {
       "output_type": "stream",
       "stream": "stdout",
       "text": [
        "3000 "
       ]
      },
      {
       "output_type": "stream",
       "stream": "stdout",
       "text": [
        "10000\n"
       ]
      },
      {
       "output_type": "stream",
       "stream": "stdout",
       "text": [
        "lysopo3 SL-APD3mm 10 "
       ]
      },
      {
       "output_type": "stream",
       "stream": "stdout",
       "text": [
        "30 "
       ]
      },
      {
       "output_type": "stream",
       "stream": "stdout",
       "text": [
        "100 "
       ]
      },
      {
       "output_type": "stream",
       "stream": "stdout",
       "text": [
        "300 "
       ]
      },
      {
       "output_type": "stream",
       "stream": "stdout",
       "text": [
        "1000 "
       ]
      },
      {
       "output_type": "stream",
       "stream": "stdout",
       "text": [
        "3000 "
       ]
      },
      {
       "output_type": "stream",
       "stream": "stdout",
       "text": [
        "10000\n"
       ]
      },
      {
       "output_type": "stream",
       "stream": "stdout",
       "text": [
        "lysora1 SL-APD3mm 10 "
       ]
      },
      {
       "output_type": "stream",
       "stream": "stdout",
       "text": [
        "30 "
       ]
      },
      {
       "output_type": "stream",
       "stream": "stdout",
       "text": [
        "100 "
       ]
      },
      {
       "output_type": "stream",
       "stream": "stdout",
       "text": [
        "300 "
       ]
      },
      {
       "output_type": "stream",
       "stream": "stdout",
       "text": [
        "1000 "
       ]
      },
      {
       "output_type": "stream",
       "stream": "stdout",
       "text": [
        "3000 "
       ]
      },
      {
       "output_type": "stream",
       "stream": "stdout",
       "text": [
        "10000\n"
       ]
      },
      {
       "output_type": "stream",
       "stream": "stdout",
       "text": [
        "lysora2 SL-APD3mm 10 "
       ]
      },
      {
       "output_type": "stream",
       "stream": "stdout",
       "text": [
        "30 "
       ]
      },
      {
       "output_type": "stream",
       "stream": "stdout",
       "text": [
        "100 "
       ]
      },
      {
       "output_type": "stream",
       "stream": "stdout",
       "text": [
        "300 "
       ]
      },
      {
       "output_type": "stream",
       "stream": "stdout",
       "text": [
        "1000 "
       ]
      },
      {
       "output_type": "stream",
       "stream": "stdout",
       "text": [
        "3000 "
       ]
      },
      {
       "output_type": "stream",
       "stream": "stdout",
       "text": [
        "10000\n"
       ]
      },
      {
       "output_type": "stream",
       "stream": "stdout",
       "text": [
        "lysora3 SL-APD3mm 10 "
       ]
      },
      {
       "output_type": "stream",
       "stream": "stdout",
       "text": [
        "30 "
       ]
      },
      {
       "output_type": "stream",
       "stream": "stdout",
       "text": [
        "100 "
       ]
      },
      {
       "output_type": "stream",
       "stream": "stdout",
       "text": [
        "300 "
       ]
      },
      {
       "output_type": "stream",
       "stream": "stdout",
       "text": [
        "1000 "
       ]
      },
      {
       "output_type": "stream",
       "stream": "stdout",
       "text": [
        "3000 "
       ]
      },
      {
       "output_type": "stream",
       "stream": "stdout",
       "text": [
        "10000\n"
       ]
      },
      {
       "output_type": "stream",
       "stream": "stdout",
       "text": [
        "baf2po1 SL-APD3mm 10 "
       ]
      },
      {
       "output_type": "stream",
       "stream": "stdout",
       "text": [
        "30 "
       ]
      },
      {
       "output_type": "stream",
       "stream": "stdout",
       "text": [
        "100 "
       ]
      },
      {
       "output_type": "stream",
       "stream": "stdout",
       "text": [
        "300 "
       ]
      },
      {
       "output_type": "stream",
       "stream": "stdout",
       "text": [
        "1000 "
       ]
      },
      {
       "output_type": "stream",
       "stream": "stdout",
       "text": [
        "3000 "
       ]
      },
      {
       "output_type": "stream",
       "stream": "stdout",
       "text": [
        "10000\n"
       ]
      },
      {
       "output_type": "stream",
       "stream": "stdout",
       "text": [
        "baf2po2 SL-APD3mm 10 "
       ]
      },
      {
       "output_type": "stream",
       "stream": "stdout",
       "text": [
        "30 "
       ]
      },
      {
       "output_type": "stream",
       "stream": "stdout",
       "text": [
        "100 "
       ]
      },
      {
       "output_type": "stream",
       "stream": "stdout",
       "text": [
        "300 "
       ]
      },
      {
       "output_type": "stream",
       "stream": "stdout",
       "text": [
        "1000 "
       ]
      },
      {
       "output_type": "stream",
       "stream": "stdout",
       "text": [
        "3000 "
       ]
      },
      {
       "output_type": "stream",
       "stream": "stdout",
       "text": [
        "10000\n"
       ]
      },
      {
       "output_type": "stream",
       "stream": "stdout",
       "text": [
        "baf2po3 SL-APD3mm 10 "
       ]
      },
      {
       "output_type": "stream",
       "stream": "stdout",
       "text": [
        "30 "
       ]
      },
      {
       "output_type": "stream",
       "stream": "stdout",
       "text": [
        "100 "
       ]
      },
      {
       "output_type": "stream",
       "stream": "stdout",
       "text": [
        "300 "
       ]
      },
      {
       "output_type": "stream",
       "stream": "stdout",
       "text": [
        "1000 "
       ]
      },
      {
       "output_type": "stream",
       "stream": "stdout",
       "text": [
        "3000 "
       ]
      },
      {
       "output_type": "stream",
       "stream": "stdout",
       "text": [
        "10000\n"
       ]
      },
      {
       "output_type": "stream",
       "stream": "stdout",
       "text": [
        "baf2ra1 SL-APD3mm 10 "
       ]
      },
      {
       "output_type": "stream",
       "stream": "stdout",
       "text": [
        "30 "
       ]
      },
      {
       "output_type": "stream",
       "stream": "stdout",
       "text": [
        "100 "
       ]
      },
      {
       "output_type": "stream",
       "stream": "stdout",
       "text": [
        "300 "
       ]
      },
      {
       "output_type": "stream",
       "stream": "stdout",
       "text": [
        "1000 "
       ]
      },
      {
       "output_type": "stream",
       "stream": "stdout",
       "text": [
        "3000 "
       ]
      },
      {
       "output_type": "stream",
       "stream": "stdout",
       "text": [
        "10000\n"
       ]
      },
      {
       "output_type": "stream",
       "stream": "stdout",
       "text": [
        "baf2ra2 SL-APD3mm 10 "
       ]
      },
      {
       "output_type": "stream",
       "stream": "stdout",
       "text": [
        "30 "
       ]
      },
      {
       "output_type": "stream",
       "stream": "stdout",
       "text": [
        "100 "
       ]
      },
      {
       "output_type": "stream",
       "stream": "stdout",
       "text": [
        "300 "
       ]
      },
      {
       "output_type": "stream",
       "stream": "stdout",
       "text": [
        "1000 "
       ]
      },
      {
       "output_type": "stream",
       "stream": "stdout",
       "text": [
        "3000 "
       ]
      },
      {
       "output_type": "stream",
       "stream": "stdout",
       "text": [
        "10000\n"
       ]
      },
      {
       "output_type": "stream",
       "stream": "stdout",
       "text": [
        "baf2ra3 SL-APD3mm 10 "
       ]
      },
      {
       "output_type": "stream",
       "stream": "stdout",
       "text": [
        "30 "
       ]
      },
      {
       "output_type": "stream",
       "stream": "stdout",
       "text": [
        "100 "
       ]
      },
      {
       "output_type": "stream",
       "stream": "stdout",
       "text": [
        "300 "
       ]
      },
      {
       "output_type": "stream",
       "stream": "stdout",
       "text": [
        "1000 "
       ]
      },
      {
       "output_type": "stream",
       "stream": "stdout",
       "text": [
        "3000 "
       ]
      },
      {
       "output_type": "stream",
       "stream": "stdout",
       "text": [
        "10000\n"
       ]
      },
      {
       "output_type": "stream",
       "stream": "stdout",
       "text": [
        "csipo1 SL-APD3mm 10 "
       ]
      },
      {
       "output_type": "stream",
       "stream": "stdout",
       "text": [
        "30 "
       ]
      },
      {
       "output_type": "stream",
       "stream": "stdout",
       "text": [
        "100 "
       ]
      },
      {
       "output_type": "stream",
       "stream": "stdout",
       "text": [
        "300 "
       ]
      },
      {
       "output_type": "stream",
       "stream": "stdout",
       "text": [
        "1000 "
       ]
      },
      {
       "output_type": "stream",
       "stream": "stdout",
       "text": [
        "3000 "
       ]
      },
      {
       "output_type": "stream",
       "stream": "stdout",
       "text": [
        "10000\n"
       ]
      },
      {
       "output_type": "stream",
       "stream": "stdout",
       "text": [
        "csipo2 SL-APD3mm 10 "
       ]
      },
      {
       "output_type": "stream",
       "stream": "stdout",
       "text": [
        "30 "
       ]
      },
      {
       "output_type": "stream",
       "stream": "stdout",
       "text": [
        "100 "
       ]
      },
      {
       "output_type": "stream",
       "stream": "stdout",
       "text": [
        "300 "
       ]
      },
      {
       "output_type": "stream",
       "stream": "stdout",
       "text": [
        "1000 "
       ]
      },
      {
       "output_type": "stream",
       "stream": "stdout",
       "text": [
        "3000 "
       ]
      },
      {
       "output_type": "stream",
       "stream": "stdout",
       "text": [
        "10000\n"
       ]
      },
      {
       "output_type": "stream",
       "stream": "stdout",
       "text": [
        "csipo3 SL-APD3mm 10 "
       ]
      },
      {
       "output_type": "stream",
       "stream": "stdout",
       "text": [
        "30 "
       ]
      },
      {
       "output_type": "stream",
       "stream": "stdout",
       "text": [
        "100 "
       ]
      },
      {
       "output_type": "stream",
       "stream": "stdout",
       "text": [
        "300 "
       ]
      },
      {
       "output_type": "stream",
       "stream": "stdout",
       "text": [
        "1000 "
       ]
      },
      {
       "output_type": "stream",
       "stream": "stdout",
       "text": [
        "3000 "
       ]
      },
      {
       "output_type": "stream",
       "stream": "stdout",
       "text": [
        "10000\n"
       ]
      },
      {
       "output_type": "stream",
       "stream": "stdout",
       "text": [
        "csira1 SL-APD3mm 10 "
       ]
      },
      {
       "output_type": "stream",
       "stream": "stdout",
       "text": [
        "30 "
       ]
      },
      {
       "output_type": "stream",
       "stream": "stdout",
       "text": [
        "100 "
       ]
      },
      {
       "output_type": "stream",
       "stream": "stdout",
       "text": [
        "300 "
       ]
      },
      {
       "output_type": "stream",
       "stream": "stdout",
       "text": [
        "1000 "
       ]
      },
      {
       "output_type": "stream",
       "stream": "stdout",
       "text": [
        "3000 "
       ]
      },
      {
       "output_type": "stream",
       "stream": "stdout",
       "text": [
        "10000\n"
       ]
      },
      {
       "output_type": "stream",
       "stream": "stdout",
       "text": [
        "csira2 SL-APD3mm 10 "
       ]
      },
      {
       "output_type": "stream",
       "stream": "stdout",
       "text": [
        "30 "
       ]
      },
      {
       "output_type": "stream",
       "stream": "stdout",
       "text": [
        "100 "
       ]
      },
      {
       "output_type": "stream",
       "stream": "stdout",
       "text": [
        "300 "
       ]
      },
      {
       "output_type": "stream",
       "stream": "stdout",
       "text": [
        "1000 "
       ]
      },
      {
       "output_type": "stream",
       "stream": "stdout",
       "text": [
        "3000 "
       ]
      },
      {
       "output_type": "stream",
       "stream": "stdout",
       "text": [
        "10000\n"
       ]
      },
      {
       "output_type": "stream",
       "stream": "stdout",
       "text": [
        "csira3 SL-APD3mm 10 "
       ]
      },
      {
       "output_type": "stream",
       "stream": "stdout",
       "text": [
        "30 "
       ]
      },
      {
       "output_type": "stream",
       "stream": "stdout",
       "text": [
        "100 "
       ]
      },
      {
       "output_type": "stream",
       "stream": "stdout",
       "text": [
        "300 "
       ]
      },
      {
       "output_type": "stream",
       "stream": "stdout",
       "text": [
        "1000 "
       ]
      },
      {
       "output_type": "stream",
       "stream": "stdout",
       "text": [
        "3000 "
       ]
      },
      {
       "output_type": "stream",
       "stream": "stdout",
       "text": [
        "10000\n"
       ]
      }
     ],
     "prompt_number": 17
    },
    {
     "cell_type": "code",
     "collapsed": false,
     "input": [
      "result['npelist'] = pelist"
     ],
     "language": "python",
     "metadata": {},
     "outputs": [],
     "prompt_number": 18
    },
    {
     "cell_type": "code",
     "collapsed": false,
     "input": [
      "pickle.dump(result, open('../data/timing/tprecision_rect_preamp_geocolls2.p', 'wb'))"
     ],
     "language": "python",
     "metadata": {},
     "outputs": [],
     "prompt_number": 19
    },
    {
     "cell_type": "code",
     "collapsed": false,
     "input": [
      "result.keys()"
     ],
     "language": "python",
     "metadata": {},
     "outputs": [
      {
       "metadata": {},
       "output_type": "pyout",
       "prompt_number": 20,
       "text": [
        "['csira3:SL-APD3mm',\n",
        " 'lysopo3:SL-APD3mm_err',\n",
        " 'baf2ra1:SL-APD3mm_err',\n",
        " 'csipo1:SL-APD3mm',\n",
        " 'lysora2:SL-APD3mm',\n",
        " 'lysora3:SL-APD3mm',\n",
        " 'lysopo2:SL-APD3mm_err',\n",
        " 'lysora2:SL-APD3mm_err',\n",
        " 'baf2po1:SL-APD3mm',\n",
        " 'baf2po2:SL-APD3mm',\n",
        " 'csipo3:SL-APD3mm_err',\n",
        " 'lysora3:SL-APD3mm_err',\n",
        " 'csipo3:SL-APD3mm',\n",
        " 'baf2ra2:SL-APD3mm',\n",
        " 'lysora1:SL-APD3mm',\n",
        " 'csira1:SL-APD3mm_err',\n",
        " 'csipo2:SL-APD3mm_err',\n",
        " 'baf2ra2:SL-APD3mm_err',\n",
        " 'csira1:SL-APD3mm',\n",
        " 'csira2:SL-APD3mm',\n",
        " 'lysora1:SL-APD3mm_err',\n",
        " 'lysopo3:SL-APD3mm',\n",
        " 'baf2po2:SL-APD3mm_err',\n",
        " 'csipo2:SL-APD3mm',\n",
        " 'lysopo1:SL-APD3mm',\n",
        " 'csira2:SL-APD3mm_err',\n",
        " 'lysopo2:SL-APD3mm',\n",
        " 'baf2ra3:SL-APD3mm_err',\n",
        " 'baf2po3:SL-APD3mm',\n",
        " 'lysopo1:SL-APD3mm_err',\n",
        " 'baf2po3:SL-APD3mm_err',\n",
        " 'csira3:SL-APD3mm_err',\n",
        " 'baf2po1:SL-APD3mm_err',\n",
        " 'baf2ra3:SL-APD3mm',\n",
        " 'npelist',\n",
        " 'baf2ra1:SL-APD3mm',\n",
        " 'csipo1:SL-APD3mm_err']"
       ]
      }
     ],
     "prompt_number": 20
    },
    {
     "cell_type": "code",
     "collapsed": false,
     "input": [
      "len(result)"
     ],
     "language": "python",
     "metadata": {},
     "outputs": [
      {
       "metadata": {},
       "output_type": "pyout",
       "prompt_number": 21,
       "text": [
        "37"
       ]
      }
     ],
     "prompt_number": 21
    },
    {
     "cell_type": "heading",
     "level": 2,
     "metadata": {},
     "source": [
      "============================================================================="
     ]
    },
    {
     "cell_type": "code",
     "collapsed": false,
     "input": [
      "bins= np.linspace(0,10,101)\n",
      "plt.hist(rectdata['baf2po3'].t, bins=bins, histtype='step');\n",
      "plt.hist(rectdata['baf2ra3'].t, bins=bins, histtype='step');\n",
      "\n",
      "#plt.yscale('log')\n",
      "plt.xlim(0,10)"
     ],
     "language": "python",
     "metadata": {},
     "outputs": []
    },
    {
     "cell_type": "code",
     "collapsed": false,
     "input": [
      "print rectdata['lysopo3'].t.mean()\n",
      "print rectdata['lysora3'].t.mean()"
     ],
     "language": "python",
     "metadata": {},
     "outputs": []
    },
    {
     "cell_type": "code",
     "collapsed": false,
     "input": [
      "mat= 'baf2'\n",
      "print staudict[mat]\n",
      "print fthreshold\n",
      "rand.seed(14)\n",
      "tpolish3= timing_samples(rectdata['baf2po3'].t, 10000, staudict[mat], jittersigma= 0.1, pulsemodel= apdmodel,\n",
      "                                    noise=0, fthreshold= fthreshold*1, n= 1000)\n",
      "trough3= timing_samples(rectdata['baf2ra3'].t, 10000, staudict[mat], jittersigma= 0.1, pulsemodel= apdmodel,\n",
      "                                    noise=0, fthreshold= fthreshold*1, n= 1000)"
     ],
     "language": "python",
     "metadata": {},
     "outputs": []
    },
    {
     "cell_type": "code",
     "collapsed": false,
     "input": [
      "print np.sqrt(tpolish3.var())\n",
      "print np.sqrt(trough3.var())"
     ],
     "language": "python",
     "metadata": {},
     "outputs": []
    },
    {
     "cell_type": "code",
     "collapsed": false,
     "input": [
      "plt.figure(figsize=(12,4))\n",
      "plt.subplot(121)\n",
      "plt.hist(tpolish3, bins=100, histtype='step');\n",
      "plt.subplot(122)\n",
      "plt.hist(trough3, bins=100, histtype='step');"
     ],
     "language": "python",
     "metadata": {},
     "outputs": []
    },
    {
     "cell_type": "code",
     "collapsed": false,
     "input": [
      "plt.figure(figsize=(12,4))\n",
      "plt.subplot(121)\n",
      "plt.hist(tpolish1, bins=100, histtype='step');\n",
      "plt.subplot(122)\n",
      "plt.hist(trough1, bins=100, histtype='step');"
     ],
     "language": "python",
     "metadata": {},
     "outputs": []
    },
    {
     "cell_type": "code",
     "collapsed": false,
     "input": [
      "plt.hist(trough[trough1<0.04+13.84], bins=100, histtype='step');\n",
      "plt.hist(trough[trough1>0.04+13.84], bins=100, histtype='step');"
     ],
     "language": "python",
     "metadata": {},
     "outputs": []
    },
    {
     "cell_type": "code",
     "collapsed": false,
     "input": [
      "plt.hist(tpolish, bins=100, histtype='step');"
     ],
     "language": "python",
     "metadata": {},
     "outputs": []
    },
    {
     "cell_type": "code",
     "collapsed": false,
     "input": [
      "plt.hist(trough, bins=100, histtype='step');"
     ],
     "language": "python",
     "metadata": {},
     "outputs": []
    },
    {
     "cell_type": "code",
     "collapsed": false,
     "input": [
      "apdmodel.t[3]-apdmodel.t[2]"
     ],
     "language": "python",
     "metadata": {},
     "outputs": []
    },
    {
     "cell_type": "code",
     "collapsed": false,
     "input": [
      "tevent= event_pulse(rectdata['baf2ra3'].t, npe0=10000, scinttau= 0.9, jittersigma= 0.1, noise= 0, pulsemodel= apdmodel)\n",
      "print time_reach_threshold(tevent.t, tevent.p, fthreshold)"
     ],
     "language": "python",
     "metadata": {},
     "outputs": []
    },
    {
     "cell_type": "code",
     "collapsed": false,
     "input": [
      "plt.plot(tevent.t, tevent.p, 'bo-')\n",
      "plt.xlim(12,18)"
     ],
     "language": "python",
     "metadata": {},
     "outputs": []
    },
    {
     "cell_type": "code",
     "collapsed": false,
     "input": [
      "from iminuit import Minuit\n",
      "from probfit import Chi2Regression"
     ],
     "language": "python",
     "metadata": {},
     "outputs": []
    },
    {
     "cell_type": "code",
     "collapsed": false,
     "input": [
      "def logit(x, x0, norm, tau, y0):\n",
      "    return norm/(1+np.exp(-(x-x0)/tau)) + y0"
     ],
     "language": "python",
     "metadata": {},
     "outputs": []
    },
    {
     "cell_type": "code",
     "collapsed": false,
     "input": [
      "x= np.arange(12, 18, 0.05)\n",
      "sel= (tevent.t>12)&(tevent.t<18)&(tevent.p<0.5*np.max(tevent.p))&(tevent.p>0.01*np.max(tevent.p))\n",
      "plt.plot(tevent.t[sel], tevent.p[sel], 'bo-')\n",
      "plt.plot(x, logit(x, 14.9, 7000, 0.49, 0), 'g-')"
     ],
     "language": "python",
     "metadata": {},
     "outputs": []
    },
    {
     "cell_type": "code",
     "collapsed": false,
     "input": [
      "x2reg= Chi2Regression(logit, tevent.t[sel], tevent.p[sel])\n",
      "m = Minuit(x2reg, print_level=0, x0= 14.0, norm=8000, tau= 0.5, pedantic=False)\n",
      "m.migrad();\n",
      "print m.values"
     ],
     "language": "python",
     "metadata": {},
     "outputs": []
    },
    {
     "cell_type": "code",
     "collapsed": false,
     "input": [
      "x2reg.draw();"
     ],
     "language": "python",
     "metadata": {},
     "outputs": []
    },
    {
     "cell_type": "code",
     "collapsed": false,
     "input": [
      "x2reg.draw_residual();"
     ],
     "language": "python",
     "metadata": {},
     "outputs": []
    }
   ],
   "metadata": {}
  }
 ]
}