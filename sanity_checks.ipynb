{
 "metadata": {
  "name": ""
 },
 "nbformat": 3,
 "nbformat_minor": 0,
 "worksheets": [
  {
   "cells": [
    {
     "cell_type": "markdown",
     "metadata": {},
     "source": [
      "<h1>Sanity checks</h1>\n"
     ]
    },
    {
     "cell_type": "code",
     "collapsed": false,
     "input": [
      "import numpy as np\n",
      "import numpy.random as nprnd\n",
      "import time\n",
      "import math\n",
      "import matplotlib.pyplot as plt\n",
      "from pycrysray import *"
     ],
     "language": "python",
     "metadata": {},
     "outputs": [],
     "prompt_number": 1
    },
    {
     "cell_type": "code",
     "collapsed": false,
     "input": [
      "%load_ext autoreload\n",
      "%autoreload 2"
     ],
     "language": "python",
     "metadata": {},
     "outputs": [],
     "prompt_number": 2
    },
    {
     "cell_type": "code",
     "collapsed": false,
     "input": [
      "def critical_angle(n1, n2):\n",
      "    '''\n",
      "    Critical angle (degrees) of total internal reflection. From n1 to n2.\n",
      "    '''\n",
      "    sinthc= n2/float(n1)\n",
      "    if sinthc>=1:\n",
      "        return 90.0\n",
      "    return math.degrees(math.asin(sinthc))"
     ],
     "language": "python",
     "metadata": {},
     "outputs": [],
     "prompt_number": 3
    },
    {
     "cell_type": "markdown",
     "metadata": {},
     "source": [
      "<h2>Define surface and photon properties </h2>\n",
      "\n",
      "We assume the crystal is tightly wrapped or painted, so the index of refraction is irrelevant. Set the inside and outside the same. The reflection of the surface has two components. One is random reflection. The reflected photon is uniformly distributed over the entire semi-hemisphere. The second component is diffused reflection. The reflected photon follows the law of reflection smeared by a Gaussian distribution. \n",
      "\n",
      "If the photon hits a sensor, it follows the Fresnel's equations of reflection and transmission http://en.wikipedia.org/wiki/Fresnel_equations. The reflection part is calculated using diffused reflection mentioned above.\n",
      "\n",
      "Here we assume the following,\n",
      "\n",
      "For photons reflecting on crystal surface/wrapping/painting material:<br>\n",
      "Random reflaction probability = 0.0<br>\n",
      "Diffused reflection probability = 1.0<br>\n",
      "$\\sigma$ of diffused reflection = 0.01 degrees<br>\n",
      "Ignore the index of refraction\n",
      "\n",
      "For photons reflecting in the sensor area<br>\n",
      "Diffused reflection probability = 1.0<br>\n",
      "$\\sigma$ of diffused reflection = 0.01 degree<br>\n",
      "Assume photons going from crystal (LYSO $n=1.82$ or BaF2 $n=1.47$) to glass ($n= 1.52$).\n"
     ]
    },
    {
     "cell_type": "code",
     "collapsed": false,
     "input": [
      "# Surface property\n",
      "nlyso, nbaf2, nglass, nair = 1.82, 1.47, 1.52, 1.0\n",
      "\n",
      "#lyso_wrap= dict(sigdif_crys=0.1, pdif_crys=0.99, prand_crys=0.0, sigdif_wrap=20, pdif_wrap=0.87, prand_wrap=0.10,\n",
      "#                idx_refract_in=nlyso, idx_refract_out=nair, sensitive=False, wrapped=True)\n",
      "\n",
      "# Wrapped surface\n",
      "lyso_wrap= dict(sigdif_crys=0.1, pdif_crys=0.99, prand_crys=0.0, sigdif_wrap=20, pdif_wrap=0.87, prand_wrap=0.10,\n",
      "                idx_refract_in=nlyso, idx_refract_out=nair, sensitive=False, wrapped=True)\n",
      "baf2_wrap= lyso_wrap.copy()\n",
      "baf2_wrap['idx_refract_in']= nbaf2\n",
      "\n",
      "# sensitive surface\n",
      "lyso_glass= dict(sigdif_crys=0.1, pdif_crys=1.0, prand_crys=0.0,\n",
      "                 idx_refract_in=nlyso, idx_refract_out=nglass, sensitive=True, wrapped=False)\n",
      "lyso_air= lyso_glass.copy()\n",
      "lyso_air['idx_refract_out']= nair\n",
      "baf2_glass= lyso_glass.copy()\n",
      "baf2_glass['idx_refract_in']= nbaf2\n",
      "baf2_air= baf2_glass.copy()\n",
      "baf2_air['idx_refract_out']= nair"
     ],
     "language": "python",
     "metadata": {},
     "outputs": [],
     "prompt_number": 4
    },
    {
     "cell_type": "code",
     "collapsed": false,
     "input": [
      "print lyso_air\n",
      "print lyso_glass\n",
      "print baf2_air\n",
      "print baf2_glass"
     ],
     "language": "python",
     "metadata": {},
     "outputs": [
      {
       "output_type": "stream",
       "stream": "stdout",
       "text": [
        "{'prand_crys': 0.0, 'sigdif_crys': 0.1, 'pdif_crys': 1.0, 'sensitive': True, 'wrapped': False, 'idx_refract_in': 1.82, 'idx_refract_out': 1.0}\n",
        "{'prand_crys': 0.0, 'sigdif_crys': 0.1, 'sensitive': True, 'pdif_crys': 1.0, 'idx_refract_in': 1.82, 'wrapped': False, 'idx_refract_out': 1.52}\n",
        "{'prand_crys': 0.0, 'sigdif_crys': 0.1, 'pdif_crys': 1.0, 'sensitive': True, 'wrapped': False, 'idx_refract_in': 1.47, 'idx_refract_out': 1.0}\n",
        "{'prand_crys': 0.0, 'sigdif_crys': 0.1, 'pdif_crys': 1.0, 'sensitive': True, 'wrapped': False, 'idx_refract_in': 1.47, 'idx_refract_out': 1.52}\n"
       ]
      }
     ],
     "prompt_number": 5
    },
    {
     "cell_type": "markdown",
     "metadata": {},
     "source": [
      "<h2>Define geometries</h2>\n",
      "Crystals<br>\n",
      "Hexagon: edge-to-edge width= 3.224 cm<br>\n",
      "Square: side= 3 cm<br>\n",
      "So that the areas are the same.\n",
      "\n",
      "Length= 11 cm for LYSO,  21 cm for BaF2.\n",
      "\n",
      "Sensors<br>\n",
      "Two 1 cm X 1 cm photo sensors\n"
     ]
    },
    {
     "cell_type": "code",
     "collapsed": false,
     "input": [
      "# Rectangle\n",
      "grec_lyso= rect_prism([0,0,5.5], length=11, xlen=3.0, ylen=3.0, **lyso_wrap)\n",
      "grec_baf2= rect_prism([0,0,5.5], length=11, xlen=3.0, ylen=3.0, **baf2_wrap)\n",
      "\n",
      "# Sensors\n",
      "location1= [0,0,0]\n",
      "xlen, ylen=  1.0, 1.0\n",
      "sen1_lg = rectangle(location1, xlen=xlen, ylen=ylen, **lyso_glass)\n",
      "sen1_bg = rectangle(location1, xlen=xlen, ylen=ylen, **baf2_glass)\n",
      "sen1_la = rectangle(location1, xlen=xlen, ylen=ylen, **lyso_air)\n",
      "sen1_ba = rectangle(location1, xlen=xlen, ylen=ylen, **baf2_air)"
     ],
     "language": "python",
     "metadata": {},
     "outputs": [],
     "prompt_number": 6
    },
    {
     "cell_type": "code",
     "collapsed": false,
     "input": [
      "# Define crystals\n",
      "crec0= Crystal('crec0', grec_lyso)\n",
      "crec_lg= Crystal('crec_lg', grec_lyso+[sen1_lg])\n",
      "crec_bg= Crystal('crec_bg', grec_baf2+[sen1_bg])\n",
      "\n",
      "crec_la= Crystal('crec_la', grec_lyso+[sen1_la])\n",
      "crec_ba= Crystal('crec_ba', grec_baf2+[sen1_ba])"
     ],
     "language": "python",
     "metadata": {},
     "outputs": [],
     "prompt_number": 7
    },
    {
     "cell_type": "code",
     "collapsed": false,
     "input": [
      "# Sensors\n",
      "location1= [0,+0.7,0]\n",
      "location2= [0,-0.7,0]\n",
      "xlen, ylen=  1.0, 1.0\n",
      "sen1_lg = rectangle(location1, xlen=xlen, ylen=ylen, **lyso_glass)\n",
      "sen2_lg = rectangle(location2, xlen=xlen, ylen=ylen, **lyso_glass)\n",
      "sen1_bg = rectangle(location1, xlen=xlen, ylen=ylen, **baf2_glass)\n",
      "sen2_bg = rectangle(location2, xlen=xlen, ylen=ylen, **baf2_glass)\n",
      "sen1_la = rectangle(location1, xlen=xlen, ylen=ylen, **lyso_air)\n",
      "sen2_la = rectangle(location2, xlen=xlen, ylen=ylen, **lyso_air)\n",
      "sen1_ba = rectangle(location1, xlen=xlen, ylen=ylen, **baf2_air)\n",
      "sen2_ba = rectangle(location2, xlen=xlen, ylen=ylen, **baf2_air)\n",
      "\n",
      "# Define crystals\n",
      "crec0= Crystal('crec0', grec_lyso)\n",
      "crec_lg= Crystal('crec_lg', grec_lyso+[sen1_lg,sen2_lg])\n",
      "crec_bg= Crystal('crec_bg', grec_baf2+[sen1_bg,sen2_bg])\n",
      "\n",
      "crec_la= Crystal('crec_la', grec_lyso+[sen1_la,sen2_la])\n",
      "crec_ba= Crystal('crec_ba', grec_baf2+[sen1_ba,sen2_ba])"
     ],
     "language": "python",
     "metadata": {},
     "outputs": [],
     "prompt_number": 8
    },
    {
     "cell_type": "code",
     "collapsed": false,
     "input": [
      "fig=figure()\n",
      "ax= fig.add_subplot(111, projection='3d')\n",
      "draw_one_crystal(ax, crec_lg)"
     ],
     "language": "python",
     "metadata": {},
     "outputs": [
      {
       "metadata": {},
       "output_type": "display_data",
       "png": "[encoded data removed]",
       "text": [
        "<matplotlib.figure.Figure at 0x10cd1fc90>"
       ]
      }
     ],
     "prompt_number": 9
    },
    {
     "cell_type": "markdown",
     "metadata": {},
     "source": [
      "<h2>Test photon</h2>"
     ]
    },
    {
     "cell_type": "code",
     "collapsed": false,
     "input": [
      "nprnd.seed(0)\n",
      "pos0= np.array([0.0, 0.0, 0.5])  # initial position\n",
      "dir0= np.array([0.0,0.4,+0.5])    # initial direction\n",
      "photon1= Photon(pos0, dir0 , mfp=170, trackvtx=True)\n",
      "photon2= Photon(pos0, dir0 , mfp=170, trackvtx=True)"
     ],
     "language": "python",
     "metadata": {},
     "outputs": [],
     "prompt_number": 10
    },
    {
     "cell_type": "code",
     "collapsed": false,
     "input": [
      "final_plane1= photon1.propagate(crec_la)"
     ],
     "language": "python",
     "metadata": {},
     "outputs": [],
     "prompt_number": 11
    },
    {
     "cell_type": "code",
     "collapsed": false,
     "input": [
      "print photon1.pathlength, photon1.status\n",
      "photon1.lastplane.print_properties()\n",
      "print photon1.n_reflects"
     ],
     "language": "python",
     "metadata": {},
     "outputs": [
      {
       "output_type": "stream",
       "stream": "stdout",
       "text": [
        "93.0993543079 1\n",
        "Plane:\n",
        "  corners:\n",
        "[ 1.5 -1.5  0. ]\n",
        "[-1.5 -1.5  0. ]\n",
        "[ -1.5  -1.5  11. ]\n",
        "[  1.5  -1.5  11. ]\n",
        "  normal = [-0.  1. -0.]\n",
        "  sigdif_crys = 0.1\n",
        "  pdif_crys = 0.99\n",
        "  prand_crys = 0.0\n",
        "  sigdif_wrap = 20\n",
        "  pdif_wrap = 0.87\n",
        "  prand_wrap = 0.1\n",
        "  index of refraction in =  1.82\n",
        "  index of refraction out =  1.0\n",
        "  sensitive=  False\n",
        "  wrapped=  True\n",
        "26\n"
       ]
      }
     ],
     "prompt_number": 12
    },
    {
     "cell_type": "code",
     "collapsed": false,
     "input": [
      "fig=figure()\n",
      "ax = fig.add_subplot(111, projection='3d')\n",
      "draw_one_crystal(ax, crec_lg, photon1, xlim=(-1,1), ylim=(-1,1))"
     ],
     "language": "python",
     "metadata": {},
     "outputs": [
      {
       "metadata": {},
       "output_type": "display_data",
       "png": "[encoded data removed]",
       "text": [
        "<matplotlib.figure.Figure at 0x10cd2d2d0>"
       ]
      }
     ],
     "prompt_number": 13
    },
    {
     "cell_type": "code",
     "collapsed": false,
     "input": [
      "print critical_angle(nlyso, nglass)\n",
      "print critical_angle(nlyso, nair)\n",
      "print critical_angle(nbaf2, nair)\n",
      "print 1-cos(math.radians(33.3))\n",
      "print 1-cos(math.radians(42.9))\n",
      "#print photon1.incident_costh\n",
      "#print math.degrees(np.arccos(-photon1.incident_costh))"
     ],
     "language": "python",
     "metadata": {},
     "outputs": [
      {
       "output_type": "stream",
       "stream": "stdout",
       "text": [
        "56.6330058592\n",
        "33.3293265288\n",
        "42.8649102491\n",
        "0.164192638632\n",
        "0.267457101213\n"
       ]
      }
     ],
     "prompt_number": 14
    },
    {
     "cell_type": "code",
     "collapsed": false,
     "input": [
      "def short_mfp_test(crystal, origin, mfp, nphotons, dz=0.0, dr=0.0, verbose=False):\n",
      "    '''\n",
      "    Photons generated in random directions.\n",
      "    Return the number of photons that are detected and a list of incident angles at the detection.\n",
      "    *origin*: The origin of photons\n",
      "    *mfp: Mean free path of photon\n",
      "    '''\n",
      "    acriticals=[]\n",
      "    ndet=0\n",
      "    for i in range(nphotons):\n",
      "        if verbose:\n",
      "            if i%(nphotons/10.)==0:\n",
      "                print i,\n",
      "        x, r= generate_p6(np.array(origin), dz, dr)\n",
      "        photon= Photon(x, r , mfp=mfp, trackvtx=False)\n",
      "        photon.propagate(crystal)\n",
      "        if photon.status != photon.transmitted:\n",
      "            continue\n",
      "        if photon.lastplane is None:\n",
      "            continue\n",
      "        if photon.lastplane.sensitive:\n",
      "            ndet= ndet+1\n",
      "            acriticals.append( math.degrees(math.acos(-photon.incident_costh)) )\n",
      "    if verbose: print\n",
      "    return ndet, acriticals    "
     ],
     "language": "python",
     "metadata": {},
     "outputs": [],
     "prompt_number": 15
    },
    {
     "cell_type": "code",
     "collapsed": false,
     "input": [
      "nprnd.seed(0)"
     ],
     "language": "python",
     "metadata": {},
     "outputs": [],
     "prompt_number": 34
    },
    {
     "cell_type": "code",
     "collapsed": false,
     "input": [
      "ndet_la, acrts_la= short_mfp_test(crec_la, [0,0,5.5], 170, 1000, dz=0.2, dr=1.1, verbose=True)\n",
      "print ndet_la"
     ],
     "language": "python",
     "metadata": {},
     "outputs": [
      {
       "output_type": "stream",
       "stream": "stdout",
       "text": [
        "0 "
       ]
      },
      {
       "output_type": "stream",
       "stream": "stdout",
       "text": [
        "100 "
       ]
      },
      {
       "output_type": "stream",
       "stream": "stdout",
       "text": [
        "200 "
       ]
      },
      {
       "output_type": "stream",
       "stream": "stdout",
       "text": [
        "300 "
       ]
      },
      {
       "output_type": "stream",
       "stream": "stdout",
       "text": [
        "400 "
       ]
      },
      {
       "output_type": "stream",
       "stream": "stdout",
       "text": [
        "500 "
       ]
      },
      {
       "output_type": "stream",
       "stream": "stdout",
       "text": [
        "600 "
       ]
      },
      {
       "output_type": "stream",
       "stream": "stdout",
       "text": [
        "700 "
       ]
      },
      {
       "output_type": "stream",
       "stream": "stdout",
       "text": [
        "800 "
       ]
      },
      {
       "output_type": "stream",
       "stream": "stdout",
       "text": [
        "900\n"
       ]
      },
      {
       "output_type": "stream",
       "stream": "stdout",
       "text": [
        "94\n"
       ]
      }
     ],
     "prompt_number": 35
    },
    {
     "cell_type": "code",
     "collapsed": false,
     "input": [
      "ndet_ba, acrts_ba= short_mfp_test(crec_ba, [0,0,5.5], 170, 1000, dz=0.2, dr=1.1, verbose=True)\n",
      "print ndet_ba"
     ],
     "language": "python",
     "metadata": {},
     "outputs": [
      {
       "output_type": "stream",
       "stream": "stdout",
       "text": [
        "0 "
       ]
      },
      {
       "output_type": "stream",
       "stream": "stdout",
       "text": [
        "100 "
       ]
      },
      {
       "output_type": "stream",
       "stream": "stdout",
       "text": [
        "200 "
       ]
      },
      {
       "output_type": "stream",
       "stream": "stdout",
       "text": [
        "300 "
       ]
      },
      {
       "output_type": "stream",
       "stream": "stdout",
       "text": [
        "400 "
       ]
      },
      {
       "output_type": "stream",
       "stream": "stdout",
       "text": [
        "500 "
       ]
      },
      {
       "output_type": "stream",
       "stream": "stdout",
       "text": [
        "600 "
       ]
      },
      {
       "output_type": "stream",
       "stream": "stdout",
       "text": [
        "700 "
       ]
      },
      {
       "output_type": "stream",
       "stream": "stdout",
       "text": [
        "800 "
       ]
      },
      {
       "output_type": "stream",
       "stream": "stdout",
       "text": [
        "900\n"
       ]
      },
      {
       "output_type": "stream",
       "stream": "stdout",
       "text": [
        "118\n"
       ]
      }
     ],
     "prompt_number": 42
    },
    {
     "cell_type": "code",
     "collapsed": false,
     "input": [
      "print ndet_ba/float(ndet_la)"
     ],
     "language": "python",
     "metadata": {},
     "outputs": [
      {
       "output_type": "stream",
       "stream": "stdout",
       "text": [
        "1.25531914894\n"
       ]
      }
     ],
     "prompt_number": 43
    },
    {
     "cell_type": "code",
     "collapsed": false,
     "input": [
      "crec_ba.planes[1].print_properties()"
     ],
     "language": "python",
     "metadata": {},
     "outputs": [
      {
       "output_type": "stream",
       "stream": "stdout",
       "text": [
        "Plane:\n",
        "  corners:\n",
        "[ -1.5  -1.5  11. ]\n",
        "[ -1.5   1.5  11. ]\n",
        "[  1.5   1.5  11. ]\n",
        "[  1.5  -1.5  11. ]\n",
        "  normal = [-0. -0. -1.]\n",
        "  sigdif_crys = 0.1\n",
        "  pdif_crys = 0.99\n",
        "  prand_crys = 0.0\n",
        "  sigdif_wrap = 20\n",
        "  pdif_wrap = 0.87\n",
        "  prand_wrap = 0.1\n",
        "  index of refraction in =  1.47\n",
        "  index of refraction out =  1.0\n",
        "  sensitive=  False\n",
        "  wrapped=  True\n"
       ]
      }
     ],
     "prompt_number": 47
    },
    {
     "cell_type": "code",
     "collapsed": false,
     "input": [
      "cr_la= critical_angle(nlyso, nair)\n",
      "print cr_la\n",
      "print 1-cos(math.radians(cr_la))\n",
      "cr_ba= critical_angle(nbaf2, nair)\n",
      "print cr_ba\n",
      "print 1-cos(math.radians(cr_ba))\n",
      "print (1-cos(math.radians(cr_ba)))/(1-cos(math.radians(cr_la)))"
     ],
     "language": "python",
     "metadata": {},
     "outputs": [
      {
       "output_type": "stream",
       "stream": "stdout",
       "text": [
        "33.3293265288\n",
        "0.164473762406\n",
        "42.8649102491\n",
        "0.267040343587\n",
        "1.6236045171\n"
       ]
      }
     ],
     "prompt_number": 24
    },
    {
     "cell_type": "code",
     "collapsed": false,
     "input": [
      "plt.hist(acrts_la);"
     ],
     "language": "python",
     "metadata": {},
     "outputs": [
      {
       "metadata": {},
       "output_type": "display_data",
       "png": "[encoded data removed]",
       "text": [
        "<matplotlib.figure.Figure at 0x10790d650>"
       ]
      }
     ],
     "prompt_number": 16
    },
    {
     "cell_type": "code",
     "collapsed": false,
     "input": [
      "ndet_lg, acrts_lg= short_mfp_test(crec_lg, [0,0,2.0], 170, 1000, verbose=True)\n",
      "print ndet_lg"
     ],
     "language": "python",
     "metadata": {},
     "outputs": [
      {
       "output_type": "stream",
       "stream": "stdout",
       "text": [
        "0 "
       ]
      },
      {
       "output_type": "stream",
       "stream": "stdout",
       "text": [
        "100 "
       ]
      },
      {
       "output_type": "stream",
       "stream": "stdout",
       "text": [
        "200 "
       ]
      },
      {
       "output_type": "stream",
       "stream": "stdout",
       "text": [
        "300 "
       ]
      },
      {
       "output_type": "stream",
       "stream": "stdout",
       "text": [
        "400 "
       ]
      },
      {
       "output_type": "stream",
       "stream": "stdout",
       "text": [
        "500 "
       ]
      },
      {
       "output_type": "stream",
       "stream": "stdout",
       "text": [
        "600 "
       ]
      },
      {
       "output_type": "stream",
       "stream": "stdout",
       "text": [
        "700 "
       ]
      },
      {
       "output_type": "stream",
       "stream": "stdout",
       "text": [
        "800 "
       ]
      },
      {
       "output_type": "stream",
       "stream": "stdout",
       "text": [
        "900\n"
       ]
      },
      {
       "output_type": "stream",
       "stream": "stdout",
       "text": [
        "309\n"
       ]
      }
     ],
     "prompt_number": 44
    },
    {
     "cell_type": "code",
     "collapsed": false,
     "input": [
      "print critical_angle(nlyso, nglass)\n",
      "print 1-cos(math.radians(56.6))"
     ],
     "language": "python",
     "metadata": {},
     "outputs": [
      {
       "output_type": "stream",
       "stream": "stdout",
       "text": [
        "56.6330058592\n",
        "0.449519259915\n"
       ]
      }
     ],
     "prompt_number": 45
    },
    {
     "cell_type": "code",
     "collapsed": false,
     "input": [
      "print 0.45/0.164\n",
      "print 2068/735."
     ],
     "language": "python",
     "metadata": {},
     "outputs": [
      {
       "output_type": "stream",
       "stream": "stdout",
       "text": [
        "2.74390243902\n",
        "2.81360544218\n"
       ]
      }
     ],
     "prompt_number": 50
    },
    {
     "cell_type": "code",
     "collapsed": false,
     "input": [
      "bins= np.linspace(0,60,61)\n",
      "plt.hist(acrts_lg, bins, histtype='step', alpha=0.9);\n",
      "plt.hist(acrts_la, bins, histtype='step', alpha=0.9);"
     ],
     "language": "python",
     "metadata": {},
     "outputs": [
      {
       "metadata": {},
       "output_type": "display_data",
       "png": "[encoded data removed]",
       "text": [
        "<matplotlib.figure.Figure at 0x103c3d050>"
       ]
      }
     ],
     "prompt_number": 46
    },
    {
     "cell_type": "code",
     "collapsed": false,
     "input": [
      "print ndet_lg/float(ndet_la)"
     ],
     "language": "python",
     "metadata": {},
     "outputs": [
      {
       "output_type": "stream",
       "stream": "stdout",
       "text": [
        "3.47842401501\n"
       ]
      }
     ],
     "prompt_number": 76
    },
    {
     "cell_type": "code",
     "collapsed": false,
     "input": [],
     "language": "python",
     "metadata": {},
     "outputs": [],
     "prompt_number": 76
    },
    {
     "cell_type": "code",
     "collapsed": false,
     "input": [
      "# Rectangle\n",
      "grec_lyso= rect_prism([0,0,5.5], length=11, xlen=3.0, ylen=3.0, **lyso_wrap)\n",
      "\n",
      "# Sensors\n",
      "location1= [0,+0.7,0]\n",
      "location2= [0,-0.7,0]\n",
      "xlen, ylen=  1.0, 1.0\n",
      "sen1_lg = rectangle(location1, xlen=xlen, ylen=ylen, **lyso_glass)\n",
      "sen1_la = rectangle(location1, xlen=xlen, ylen=ylen, **lyso_air)\n",
      "sen2_lg = rectangle(location2, xlen=xlen, ylen=ylen, **lyso_glass)\n",
      "sen2_la = rectangle(location2, xlen=xlen, ylen=ylen, **lyso_air)\n",
      "\n",
      "# Crystal\n",
      "crec_la = Crystal('crec_la', grec_lyso+[sen1_la,sen2_la])\n",
      "crec_lg = Crystal('crec_lg', grec_lyso+[sen1_lg,sen2_lg])"
     ],
     "language": "python",
     "metadata": {},
     "outputs": [],
     "prompt_number": 84
    },
    {
     "cell_type": "code",
     "collapsed": false,
     "input": [
      "nprnd.seed(0)\n",
      "ndet_la, acrts_la= short_mfp_test(crec_la, [0,0,5.5], 1000, 1000, dz=0.2, dr=0.2, verbose=True)\n",
      "print ndet_la"
     ],
     "language": "python",
     "metadata": {},
     "outputs": [
      {
       "output_type": "stream",
       "stream": "stdout",
       "text": [
        "0 "
       ]
      },
      {
       "output_type": "stream",
       "stream": "stdout",
       "text": [
        "100 "
       ]
      },
      {
       "output_type": "stream",
       "stream": "stdout",
       "text": [
        "200 "
       ]
      },
      {
       "output_type": "stream",
       "stream": "stdout",
       "text": [
        "300 "
       ]
      },
      {
       "output_type": "stream",
       "stream": "stdout",
       "text": [
        "400 "
       ]
      },
      {
       "output_type": "stream",
       "stream": "stdout",
       "text": [
        "500 "
       ]
      },
      {
       "output_type": "stream",
       "stream": "stdout",
       "text": [
        "600 "
       ]
      },
      {
       "output_type": "stream",
       "stream": "stdout",
       "text": [
        "700 "
       ]
      },
      {
       "output_type": "stream",
       "stream": "stdout",
       "text": [
        "800 "
       ]
      },
      {
       "output_type": "stream",
       "stream": "stdout",
       "text": [
        "900\n"
       ]
      },
      {
       "output_type": "stream",
       "stream": "stdout",
       "text": [
        "148\n"
       ]
      }
     ],
     "prompt_number": 85
    },
    {
     "cell_type": "code",
     "collapsed": false,
     "input": [
      "nprnd.seed(0)\n",
      "ndet_lg, acrts_lg= short_mfp_test(crec_lg, [0,0,5.5], 1000, 1000, dz=0.2, dr=0.2, verbose=True)\n",
      "print ndet_lg"
     ],
     "language": "python",
     "metadata": {},
     "outputs": [
      {
       "output_type": "stream",
       "stream": "stdout",
       "text": [
        "0 "
       ]
      },
      {
       "output_type": "stream",
       "stream": "stdout",
       "text": [
        "100 "
       ]
      },
      {
       "output_type": "stream",
       "stream": "stdout",
       "text": [
        "200 "
       ]
      },
      {
       "output_type": "stream",
       "stream": "stdout",
       "text": [
        "300 "
       ]
      },
      {
       "output_type": "stream",
       "stream": "stdout",
       "text": [
        "400 "
       ]
      },
      {
       "output_type": "stream",
       "stream": "stdout",
       "text": [
        "500 "
       ]
      },
      {
       "output_type": "stream",
       "stream": "stdout",
       "text": [
        "600 "
       ]
      },
      {
       "output_type": "stream",
       "stream": "stdout",
       "text": [
        "700 "
       ]
      },
      {
       "output_type": "stream",
       "stream": "stdout",
       "text": [
        "800 "
       ]
      },
      {
       "output_type": "stream",
       "stream": "stdout",
       "text": [
        "900\n"
       ]
      },
      {
       "output_type": "stream",
       "stream": "stdout",
       "text": [
        "376\n"
       ]
      }
     ],
     "prompt_number": 86
    },
    {
     "cell_type": "code",
     "collapsed": false,
     "input": [
      "bins= np.linspace(0,60,61)\n",
      "plt.hist(acrts_lg, bins, histtype='step', alpha=0.9);\n",
      "plt.hist(acrts_la, bins, histtype='step', alpha=0.9);"
     ],
     "language": "python",
     "metadata": {},
     "outputs": [
      {
       "metadata": {},
       "output_type": "display_data",
       "png": "[encoded data removed]",
       "text": [
        "<matplotlib.figure.Figure at 0x10a946d50>"
       ]
      }
     ],
     "prompt_number": 87
    },
    {
     "cell_type": "code",
     "collapsed": false,
     "input": [
      "bins= np.linspace(0,60,61)\n",
      "plt.hist(acrts_lg, bins, histtype='step', alpha=0.9);\n",
      "plt.hist(acrts_la, bins, histtype='step', alpha=0.9);"
     ],
     "language": "python",
     "metadata": {},
     "outputs": [
      {
       "metadata": {},
       "output_type": "display_data",
       "png": "[encoded data removed]",
       "text": [
        "<matplotlib.figure.Figure at 0x10a8ccd10>"
       ]
      }
     ],
     "prompt_number": 82
    },
    {
     "cell_type": "markdown",
     "metadata": {},
     "source": [
      "<h2>Run experiments</h2>"
     ]
    },
    {
     "cell_type": "code",
     "collapsed": false,
     "input": [
      "def crystal_zrange(crystal):\n",
      "    zp=[]\n",
      "    for p in crystal.planes:\n",
      "        for c in p.corners:\n",
      "            zp.append(c[2])\n",
      "    zp= np.array(zp)\n",
      "    return zp.min(), zp.max()"
     ],
     "language": "python",
     "metadata": {},
     "outputs": [],
     "prompt_number": 12
    },
    {
     "cell_type": "code",
     "collapsed": false,
     "input": [
      "nprnd.seed(0)\n",
      "results= {}\n",
      "starttime= time.time()\n",
      "for crystal in [chex_la, chex_lg, chex_ba, chex_bg, crec_la, crec_lg, crec_ba, crec_bg]:\n",
      "    zmin, zmax= crystal_zrange(crystal)\n",
      "    zpoints= np.linspace(zmin+0.5,zmax-0.5,11)\n",
      "    zpoints= np.array([np.zeros(11), np.zeros(11), zpoints])\n",
      "    zpoints= zpoints.transpose()\n",
      "    kwargs= dict(zpoints= zpoints, dz= 0.2, dr= 1.1, nperz= 1000, verbose=True)\n",
      "    \n",
      "    print 'processing ', crystal.name, \n",
      "    effs, errs= run_exp(crystal, **kwargs)\n",
      "    results[crystal.name+'_effs']= effs\n",
      "    results[crystal.name+'_errs']= errs\n",
      "    print '  time %.1f s' % (time.time() - starttime )"
     ],
     "language": "python",
     "metadata": {},
     "outputs": [
      {
       "output_type": "stream",
       "stream": "stdout",
       "text": [
        "processing  chex_la [ 0.   0.   0.5] "
       ]
      },
      {
       "output_type": "stream",
       "stream": "stdout",
       "text": [
        "[ 0.   0.   1.5] "
       ]
      },
      {
       "output_type": "stream",
       "stream": "stdout",
       "text": [
        "[ 0.   0.   2.5] "
       ]
      },
      {
       "output_type": "stream",
       "stream": "stdout",
       "text": [
        "[ 0.   0.   3.5] "
       ]
      },
      {
       "output_type": "stream",
       "stream": "stdout",
       "text": [
        "[ 0.   0.   4.5] "
       ]
      },
      {
       "output_type": "stream",
       "stream": "stdout",
       "text": [
        "[ 0.   0.   5.5] "
       ]
      },
      {
       "output_type": "stream",
       "stream": "stdout",
       "text": [
        "[ 0.   0.   6.5] "
       ]
      },
      {
       "output_type": "stream",
       "stream": "stdout",
       "text": [
        "[ 0.   0.   7.5] "
       ]
      },
      {
       "output_type": "stream",
       "stream": "stdout",
       "text": [
        "[ 0.   0.   8.5] "
       ]
      },
      {
       "output_type": "stream",
       "stream": "stdout",
       "text": [
        "[ 0.   0.   9.5] "
       ]
      },
      {
       "output_type": "stream",
       "stream": "stdout",
       "text": [
        "[  0.    0.   10.5]\n"
       ]
      },
      {
       "output_type": "stream",
       "stream": "stdout",
       "text": [
        "  time 2910.2 s\n",
        "processing  chex_lg [ 0.   0.   0.5] "
       ]
      },
      {
       "output_type": "stream",
       "stream": "stdout",
       "text": [
        "[ 0.   0.   1.5] "
       ]
      },
      {
       "output_type": "stream",
       "stream": "stdout",
       "text": [
        "[ 0.   0.   2.5] "
       ]
      },
      {
       "output_type": "stream",
       "stream": "stdout",
       "text": [
        "[ 0.   0.   3.5] "
       ]
      },
      {
       "output_type": "stream",
       "stream": "stdout",
       "text": [
        "[ 0.   0.   4.5] "
       ]
      },
      {
       "output_type": "stream",
       "stream": "stdout",
       "text": [
        "[ 0.   0.   5.5] "
       ]
      },
      {
       "output_type": "stream",
       "stream": "stdout",
       "text": [
        "[ 0.   0.   6.5] "
       ]
      },
      {
       "output_type": "stream",
       "stream": "stdout",
       "text": [
        "[ 0.   0.   7.5] "
       ]
      },
      {
       "output_type": "stream",
       "stream": "stdout",
       "text": [
        "[ 0.   0.   8.5] "
       ]
      },
      {
       "output_type": "stream",
       "stream": "stdout",
       "text": [
        "[ 0.   0.   9.5] "
       ]
      },
      {
       "output_type": "stream",
       "stream": "stdout",
       "text": [
        "[  0.    0.   10.5]\n"
       ]
      },
      {
       "output_type": "stream",
       "stream": "stdout",
       "text": [
        "  time 3456.1 s\n",
        "processing  chex_ba [ 0.   0.   0.5] "
       ]
      },
      {
       "output_type": "stream",
       "stream": "stdout",
       "text": [
        "[ 0.   0.   2.5] "
       ]
      },
      {
       "output_type": "stream",
       "stream": "stdout",
       "text": [
        "[ 0.   0.   4.5] "
       ]
      },
      {
       "output_type": "stream",
       "stream": "stdout",
       "text": [
        "[ 0.   0.   6.5] "
       ]
      },
      {
       "output_type": "stream",
       "stream": "stdout",
       "text": [
        "[ 0.   0.   8.5] "
       ]
      },
      {
       "output_type": "stream",
       "stream": "stdout",
       "text": [
        "[  0.    0.   10.5] "
       ]
      },
      {
       "output_type": "stream",
       "stream": "stdout",
       "text": [
        "[  0.    0.   12.5] "
       ]
      },
      {
       "output_type": "stream",
       "stream": "stdout",
       "text": [
        "[  0.    0.   14.5] "
       ]
      },
      {
       "output_type": "stream",
       "stream": "stdout",
       "text": [
        "[  0.    0.   16.5] "
       ]
      },
      {
       "output_type": "stream",
       "stream": "stdout",
       "text": [
        "[  0.    0.   18.5] "
       ]
      },
      {
       "output_type": "stream",
       "stream": "stdout",
       "text": [
        "[  0.    0.   20.5]\n"
       ]
      },
      {
       "output_type": "stream",
       "stream": "stdout",
       "text": [
        "  time 4432.4 s\n",
        "processing  chex_bg [ 0.   0.   0.5] "
       ]
      },
      {
       "output_type": "stream",
       "stream": "stdout",
       "text": [
        "[ 0.   0.   2.5] "
       ]
      },
      {
       "output_type": "stream",
       "stream": "stdout",
       "text": [
        "[ 0.   0.   4.5] "
       ]
      },
      {
       "output_type": "stream",
       "stream": "stdout",
       "text": [
        "[ 0.   0.   6.5] "
       ]
      },
      {
       "output_type": "stream",
       "stream": "stdout",
       "text": [
        "[ 0.   0.   8.5] "
       ]
      },
      {
       "output_type": "stream",
       "stream": "stdout",
       "text": [
        "[  0.    0.   10.5] "
       ]
      },
      {
       "output_type": "stream",
       "stream": "stdout",
       "text": [
        "[  0.    0.   12.5] "
       ]
      },
      {
       "output_type": "stream",
       "stream": "stdout",
       "text": [
        "[  0.    0.   14.5] "
       ]
      },
      {
       "output_type": "stream",
       "stream": "stdout",
       "text": [
        "[  0.    0.   16.5] "
       ]
      },
      {
       "output_type": "stream",
       "stream": "stdout",
       "text": [
        "[  0.    0.   18.5] "
       ]
      },
      {
       "output_type": "stream",
       "stream": "stdout",
       "text": [
        "[  0.    0.   20.5]\n"
       ]
      },
      {
       "output_type": "stream",
       "stream": "stdout",
       "text": [
        "  time 4691.9 s\n",
        "processing  crec_la [ 0.   0.   0.5] "
       ]
      },
      {
       "output_type": "stream",
       "stream": "stdout",
       "text": [
        "[ 0.   0.   1.5] "
       ]
      },
      {
       "output_type": "stream",
       "stream": "stdout",
       "text": [
        "[ 0.   0.   2.5] "
       ]
      },
      {
       "output_type": "stream",
       "stream": "stdout",
       "text": [
        "[ 0.   0.   3.5] "
       ]
      },
      {
       "output_type": "stream",
       "stream": "stdout",
       "text": [
        "[ 0.   0.   4.5] "
       ]
      },
      {
       "output_type": "stream",
       "stream": "stdout",
       "text": [
        "[ 0.   0.   5.5] "
       ]
      },
      {
       "output_type": "stream",
       "stream": "stdout",
       "text": [
        "[ 0.   0.   6.5] "
       ]
      },
      {
       "output_type": "stream",
       "stream": "stdout",
       "text": [
        "[ 0.   0.   7.5] "
       ]
      },
      {
       "output_type": "stream",
       "stream": "stdout",
       "text": [
        "[ 0.   0.   8.5] "
       ]
      },
      {
       "output_type": "stream",
       "stream": "stdout",
       "text": [
        "[ 0.   0.   9.5] "
       ]
      },
      {
       "output_type": "stream",
       "stream": "stdout",
       "text": [
        "[  0.    0.   10.5]\n"
       ]
      },
      {
       "output_type": "stream",
       "stream": "stdout",
       "text": [
        "  time 6184.2 s\n",
        "processing  crec_lg [ 0.   0.   0.5] "
       ]
      },
      {
       "output_type": "stream",
       "stream": "stdout",
       "text": [
        "[ 0.   0.   1.5] "
       ]
      },
      {
       "output_type": "stream",
       "stream": "stdout",
       "text": [
        "[ 0.   0.   2.5] "
       ]
      },
      {
       "output_type": "stream",
       "stream": "stdout",
       "text": [
        "[ 0.   0.   3.5] "
       ]
      },
      {
       "output_type": "stream",
       "stream": "stdout",
       "text": [
        "[ 0.   0.   4.5] "
       ]
      },
      {
       "output_type": "stream",
       "stream": "stdout",
       "text": [
        "[ 0.   0.   5.5] "
       ]
      },
      {
       "output_type": "stream",
       "stream": "stdout",
       "text": [
        "[ 0.   0.   6.5] "
       ]
      },
      {
       "output_type": "stream",
       "stream": "stdout",
       "text": [
        "[ 0.   0.   7.5] "
       ]
      },
      {
       "output_type": "stream",
       "stream": "stdout",
       "text": [
        "[ 0.   0.   8.5] "
       ]
      },
      {
       "output_type": "stream",
       "stream": "stdout",
       "text": [
        "[ 0.   0.   9.5] "
       ]
      },
      {
       "output_type": "stream",
       "stream": "stdout",
       "text": [
        "[  0.    0.   10.5]\n"
       ]
      },
      {
       "output_type": "stream",
       "stream": "stdout",
       "text": [
        "  time 7050.4 s\n",
        "processing  crec_ba [ 0.   0.   0.5] "
       ]
      },
      {
       "output_type": "stream",
       "stream": "stdout",
       "text": [
        "[ 0.   0.   2.5] "
       ]
      },
      {
       "output_type": "stream",
       "stream": "stdout",
       "text": [
        "[ 0.   0.   4.5] "
       ]
      },
      {
       "output_type": "stream",
       "stream": "stdout",
       "text": [
        "[ 0.   0.   6.5] "
       ]
      },
      {
       "output_type": "stream",
       "stream": "stdout",
       "text": [
        "[ 0.   0.   8.5] "
       ]
      },
      {
       "output_type": "stream",
       "stream": "stdout",
       "text": [
        "[  0.    0.   10.5] "
       ]
      },
      {
       "output_type": "stream",
       "stream": "stdout",
       "text": [
        "[  0.    0.   12.5] "
       ]
      },
      {
       "output_type": "stream",
       "stream": "stdout",
       "text": [
        "[  0.    0.   14.5] "
       ]
      },
      {
       "output_type": "stream",
       "stream": "stdout",
       "text": [
        "[  0.    0.   16.5] "
       ]
      },
      {
       "output_type": "stream",
       "stream": "stdout",
       "text": [
        "[  0.    0.   18.5] "
       ]
      },
      {
       "output_type": "stream",
       "stream": "stdout",
       "text": [
        "[  0.    0.   20.5]\n"
       ]
      },
      {
       "output_type": "stream",
       "stream": "stdout",
       "text": [
        "  time 8217.4 s\n",
        "processing  crec_bg [ 0.   0.   0.5] "
       ]
      },
      {
       "output_type": "stream",
       "stream": "stdout",
       "text": [
        "[ 0.   0.   2.5] "
       ]
      },
      {
       "output_type": "stream",
       "stream": "stdout",
       "text": [
        "[ 0.   0.   4.5] "
       ]
      },
      {
       "output_type": "stream",
       "stream": "stdout",
       "text": [
        "[ 0.   0.   6.5] "
       ]
      },
      {
       "output_type": "stream",
       "stream": "stdout",
       "text": [
        "[ 0.   0.   8.5] "
       ]
      },
      {
       "output_type": "stream",
       "stream": "stdout",
       "text": [
        "[  0.    0.   10.5] "
       ]
      },
      {
       "output_type": "stream",
       "stream": "stdout",
       "text": [
        "[  0.    0.   12.5] "
       ]
      },
      {
       "output_type": "stream",
       "stream": "stdout",
       "text": [
        "[  0.    0.   14.5] "
       ]
      },
      {
       "output_type": "stream",
       "stream": "stdout",
       "text": [
        "[  0.    0.   16.5] "
       ]
      },
      {
       "output_type": "stream",
       "stream": "stdout",
       "text": [
        "[  0.    0.   18.5] "
       ]
      },
      {
       "output_type": "stream",
       "stream": "stdout",
       "text": [
        "[  0.    0.   20.5]\n"
       ]
      },
      {
       "output_type": "stream",
       "stream": "stdout",
       "text": [
        "  time 8576.1 s\n"
       ]
      }
     ],
     "prompt_number": 13
    },
    {
     "cell_type": "code",
     "collapsed": false,
     "input": [
      "import pickle\n",
      "pickle.dump(results, open('photon_collection_eff_result.p', 'wb'))"
     ],
     "language": "python",
     "metadata": {},
     "outputs": [],
     "prompt_number": 14
    },
    {
     "cell_type": "code",
     "collapsed": false,
     "input": [
      "def eff_vs_z(ax, xp, results, key, **kwargs):\n",
      "    y= results[key+'_effs']\n",
      "    ey = results[key+'_errs']\n",
      "    ax.errorbar(xp, y, ey, **kwargs)"
     ],
     "language": "python",
     "metadata": {},
     "outputs": [],
     "prompt_number": 15
    },
    {
     "cell_type": "code",
     "collapsed": false,
     "input": [
      "fig= figure(figsize=(16,6))\n",
      "xpl= np.linspace(0.5,10.5,11)/11.0\n",
      "xpb= np.linspace(0.5,20.5,11)/21.0\n",
      "\n",
      "ax= plt.subplot(121)\n",
      "eff_vs_z(ax, xpl, results, 'chex_lg', fmt='bo-', label='LYSO-Glass')\n",
      "eff_vs_z(ax, xpl, results, 'chex_la', fmt='go-', label='LYSO-Air', mfc='w', mec='g', mew=2)\n",
      "eff_vs_z(ax, xpb, results, 'chex_bg', fmt='rx--', label='BaF2-Glass', mew=2)\n",
      "eff_vs_z(ax, xpb, results, 'chex_ba', fmt='cd--', label='BaF2-Air', mfc='w', mec='c', mew=2)\n",
      "ax.set_title('Hexagon', fontsize='x-large')\n",
      "ax.set_xlabel('Distance from sensor face/crystal length', fontsize='x-large')\n",
      "ax.set_ylabel('Efficiency', fontsize='x-large')\n",
      "ax.set_ylim(0,0.8)\n",
      "ax.grid()\n",
      "ax.legend(numpoints=1, framealpha=0.5, fontsize='x-large', loc='center right')\n",
      "\n",
      "ax= plt.subplot(122)\n",
      "eff_vs_z(ax, xpl, results, 'crec_lg', fmt='bo-', label='LYSO-Glass')\n",
      "eff_vs_z(ax, xpl, results, 'crec_la', fmt='go-', label='LYSO-Air', mfc='w', mec='g', mew=2)\n",
      "eff_vs_z(ax, xpb, results, 'crec_bg', fmt='rx--', label='BaF2-Glass', mew=2)\n",
      "eff_vs_z(ax, xpb, results, 'crec_ba', fmt='cd--', label='BaF2-Air', mfc='w', mec='c', mew=2)\n",
      "ax.set_title('Square', fontsize='x-large')\n",
      "ax.set_xlabel('Distance from sensor face/crystal length', fontsize='x-large')\n",
      "ax.set_ylabel('Efficiency', fontsize='x-large')\n",
      "ax.set_ylim(0,0.8)\n",
      "ax.grid()\n",
      "ax.legend(numpoints=1, framealpha=0.5, fontsize='x-large', loc='center right')"
     ],
     "language": "python",
     "metadata": {},
     "outputs": [
      {
       "metadata": {},
       "output_type": "pyout",
       "prompt_number": 20,
       "text": [
        "<matplotlib.legend.Legend at 0x108855590>"
       ]
      },
      {
       "metadata": {},
       "output_type": "display_data",
       "png": "[encoded data removed]",
       "text": [
        "<matplotlib.figure.Figure at 0x108cd2390>"
       ]
      }
     ],
     "prompt_number": 20
    },
    {
     "cell_type": "code",
     "collapsed": false,
     "input": [
      "fig.savefig('plots/photon_collection_eff_result.pdf')"
     ],
     "language": "python",
     "metadata": {},
     "outputs": [],
     "prompt_number": 21
    },
    {
     "cell_type": "code",
     "collapsed": false,
     "input": [],
     "language": "python",
     "metadata": {},
     "outputs": [],
     "prompt_number": 44
    },
    {
     "cell_type": "code",
     "collapsed": false,
     "input": [],
     "language": "python",
     "metadata": {},
     "outputs": [],
     "prompt_number": 44
    },
    {
     "cell_type": "code",
     "collapsed": false,
     "input": [
      "# Reflection test"
     ],
     "language": "python",
     "metadata": {},
     "outputs": [],
     "prompt_number": 45
    },
    {
     "cell_type": "code",
     "collapsed": false,
     "input": [
      "surface= dict(sigdif_crys=0.1, pdif_crys=1.0, prand_crys=0.0, sigdif_wrap=10.0, pdif_wrap=1.0, prand_wrap=0.0,\n",
      "                idx_refract_in=nlyso, idx_refract_out=nair, sensitive=False, wrapped=True)\n",
      "pl= rectangle([0.,0.,0.], 100.0, 100.0, **surface)\n",
      "crys= Crystal('ctest', [pl])\n",
      "print pl.normal"
     ],
     "language": "python",
     "metadata": {},
     "outputs": [
      {
       "output_type": "stream",
       "stream": "stdout",
       "text": [
        "[ 0.  0.  1.]\n"
       ]
      }
     ],
     "prompt_number": 27
    },
    {
     "cell_type": "code",
     "collapsed": false,
     "input": [
      "def test_reflects(theta,n):\n",
      "    rangle= np.zeros(n)\n",
      "    status= np.zeros(n)\n",
      "    rtheta= math.radians(theta)\n",
      "    vdir= np.array([sin(rtheta), 0, -cos(rtheta)])\n",
      "    for i in range(len(rangle)):\n",
      "        photon= Photon([0,0,1.], vdir, mfp=1000)\n",
      "        photon.propagate(crys)\n",
      "        rangle[i]= math.degrees(math.acos(photon.dir[2]))\n",
      "        status[i]= photon.status\n",
      "    return rangle, status"
     ],
     "language": "python",
     "metadata": {},
     "outputs": [],
     "prompt_number": 28
    },
    {
     "cell_type": "code",
     "collapsed": false,
     "input": [
      "rangle, status= test_reflects(20, 1000)"
     ],
     "language": "python",
     "metadata": {},
     "outputs": [],
     "prompt_number": 33
    },
    {
     "cell_type": "code",
     "collapsed": false,
     "input": [
      "plt.hist(rangle[status==5], bins=100);"
     ],
     "language": "python",
     "metadata": {},
     "outputs": [
      {
       "metadata": {},
       "output_type": "display_data",
       "png": "[encoded data removed]",
       "text": [
        "<matplotlib.figure.Figure at 0x1040d0d50>"
       ]
      }
     ],
     "prompt_number": 34
    },
    {
     "cell_type": "code",
     "collapsed": false,
     "input": [
      "(status==5).sum()"
     ],
     "language": "python",
     "metadata": {},
     "outputs": [
      {
       "metadata": {},
       "output_type": "pyout",
       "prompt_number": 26,
       "text": [
        "998"
       ]
      }
     ],
     "prompt_number": 26
    },
    {
     "cell_type": "code",
     "collapsed": false,
     "input": [
      "print photon.status\n",
      "print photon.dir\n",
      "v2= photon.dir\n",
      "print photon.n_reflects\n",
      "print 'angle= ', math.degrees(math.acos(v2[2]))"
     ],
     "language": "python",
     "metadata": {},
     "outputs": [
      {
       "output_type": "stream",
       "stream": "stdout",
       "text": [
        "5\n",
        "[  4.99801372e-01  -1.35872057e-04   8.66140041e-01]\n",
        "1\n",
        "angle=  29.9868609485\n"
       ]
      }
     ],
     "prompt_number": 69
    },
    {
     "cell_type": "code",
     "collapsed": false,
     "input": [],
     "language": "python",
     "metadata": {},
     "outputs": []
    }
   ],
   "metadata": {}
  }
 ]
}