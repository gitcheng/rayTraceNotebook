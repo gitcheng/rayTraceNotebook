{
 "metadata": {
  "name": "",
  "signature": "sha256:1b4bca34b789103dbae3856e65b41b7577d1cdb3ac11c7e2f7cfebcf57c6944c"
 },
 "nbformat": 3,
 "nbformat_minor": 0,
 "worksheets": [
  {
   "cells": [
    {
     "cell_type": "markdown",
     "metadata": {},
     "source": [
      "<h1>Scintillation timing precision for square crystal bars with shower fluctuation</h1>"
     ]
    },
    {
     "cell_type": "markdown",
     "metadata": {},
     "source": [
      "* Use data produced by <b><code>scripts2/time\\_shower\\_square\\_*.py</code></b>\n",
      "* Geometry defined in <b><code>geometry_collection_2</code></b>\n",
      "* A similar version in <b><code>Scintillation_timing_precision_hex2_shower</code></b> uses hexagonal crystal bars"
     ]
    },
    {
     "cell_type": "markdown",
     "metadata": {},
     "source": [
      "$\\newcommand{\\Npe}{N_{\\rm p.e.}}\n",
      "\\newcommand{\\Npehat}{\\hat{N}_{\\rm p.e.}}\n",
      "$"
     ]
    },
    {
     "cell_type": "markdown",
     "metadata": {},
     "source": [
      "<h2>Event timing precision</h2>\n",
      "\n",
      "<h3>Simulate one event of incident particle</h3>\n",
      "\n",
      "1. Given $\\Npehat$ the expected number of detected p.e. (energy times p.e./MeV), $\\Npe = {\\rm Poisson}(\\Npe)$.\n",
      "2. Random sample $\\Npe$ arrival times from ray-tracing simulation with shower samples. Shower samples are produced by GEANT4 using hexagonal bar crystals.\n",
      "3. Convolve with the scintillator decay time $e^{-t/\\tau_d}$ (ignoring the scintilattor rise time, which is much smaller than the decay time).\n",
      "4. Convolve with the photodetector time jitter, modeled by a Gaussian.\n",
      "5. Convolve with the photodetector pulse shape model.\n",
      "6. Electronic noise (how?)\n",
      "\n",
      "<h3>Event timing</h3>\n",
      "\n",
      "Set a threshold. Find the point at which the pulse height is the closest the threshold. Use 10 points around that point to fit a linear function and solve for the time at the threshold\n",
      "\n",
      "<h3>Precision</h3>\n",
      "\n",
      "Repeat above steps. Study event timing distribution."
     ]
    },
    {
     "cell_type": "markdown",
     "metadata": {},
     "source": [
      "<h2> Sample </h2>"
     ]
    },
    {
     "cell_type": "code",
     "collapsed": false,
     "input": [
      "%matplotlib inline\n",
      "import matplotlib.pyplot as plt"
     ],
     "language": "python",
     "metadata": {},
     "outputs": [],
     "prompt_number": 1
    },
    {
     "cell_type": "code",
     "collapsed": false,
     "input": [
      "import numpy as np\n",
      "rand = np.random\n",
      "from timing_utilities import *\n",
      "from geometry_collection_2 import *\n",
      "from gen_utilities import *\n",
      "import pickle"
     ],
     "language": "python",
     "metadata": {},
     "outputs": [],
     "prompt_number": 2
    },
    {
     "cell_type": "code",
     "collapsed": false,
     "input": [
      "%load_ext autoreload\n",
      "%autoreload 2"
     ],
     "language": "python",
     "metadata": {},
     "outputs": [],
     "prompt_number": 3
    },
    {
     "cell_type": "markdown",
     "metadata": {},
     "source": [
      "<h2>Geometry</h2>\n",
      "\n",
      "Three crystals: BaF2, LYSO, and CsI bars with a square cross section. The length is approximately proportional to the radiation length. The cross sections are the same for all three crystals.\n",
      "\n",
      "Defined in geometry_collection_2.py\n",
      "\n",
      "Length: BaF2 20 cm; LYSO 11 cm;  CsI 19 cm.<br>\n",
      "Side of square= 3.0 cm.\n",
      "\n",
      "Sensors: two 9 mm X 9 mm photosensors."
     ]
    },
    {
     "cell_type": "markdown",
     "metadata": {},
     "source": [
      "<h2>APD pulse model</h2>"
     ]
    },
    {
     "cell_type": "markdown",
     "metadata": {},
     "source": [
      "<h3>From fast laser measurement</h3>"
     ]
    },
    {
     "cell_type": "code",
     "collapsed": false,
     "input": [
      "slapd9mm = pulse_model('../data/SLAPD_RiseTime_20140926.csv', 'time_ns', 'slapd9mm', normtype='peak')\n",
      "stdapd9mm = pulse_model('../data/SLAPD_RiseTime_20140926.csv', 'time_ns', 'stdapd9mm', normtype='peak')\n",
      "slapd3mm = pulse_model('../data/SLAPD_RiseTime_20140926.csv', 'time_ns', 'slapd3mm', normtype='peak')\n",
      "# Fill in points using linear interpolation\n",
      "slapd9mm = fill_pmodel_gaps(slapd9mm, ndivs=5)\n",
      "stdapd9mm = fill_pmodel_gaps(stdapd9mm, ndivs=5)\n",
      "slapd3mm = fill_pmodel_gaps(slapd3mm, ndivs=5)\n",
      "# t>=0\n",
      "slapd9mm = slapd9mm[slapd9mm.t>0]\n",
      "slapd3mm = slapd3mm[slapd3mm.t>0]\n",
      "stdapd9mm = stdapd9mm[stdapd9mm.t>0]"
     ],
     "language": "python",
     "metadata": {},
     "outputs": [
      {
       "output_type": "stream",
       "stream": "stderr",
       "text": [
        "/Library/Python/2.7/site-packages/numpy/core/records.py:456: FutureWarning: Numpy has detected that you (may be) writing to an array returned\n",
        "by numpy.diagonal or by selecting multiple fields in a record\n",
        "array. This code will likely break in a future numpy release --\n",
        "see numpy.diagonal or arrays.indexing reference docs for details.\n",
        "The quick fix is to make an explicit copy (e.g., do\n",
        "arr.diagonal().copy() or arr[['f0','f1']].copy()).\n",
        "  return self.setfield(val, *res)\n"
       ]
      }
     ],
     "prompt_number": 4
    },
    {
     "cell_type": "code",
     "collapsed": false,
     "input": [
      "plt.plot(slapd9mm.t, slapd9mm.p, label='SL-APD 9mm');\n",
      "plt.plot(slapd9mm.t, stdapd9mm.p, label='STD-APD 9mm');\n",
      "plt.plot(slapd9mm.t, slapd3mm.p, label='SL-APD 3mm');\n",
      "plt.xlim(0,200)\n",
      "plt.ylim(-0.2,1.1)\n",
      "plt.plot([0,200],[0,0], 'k-')\n",
      "plt.legend()\n",
      "plt.xlabel('ns');\n",
      "plt.title('APD response time');"
     ],
     "language": "python",
     "metadata": {},
     "outputs": [
      {
       "metadata": {},
       "output_type": "display_data",
       "png": "[encoded data removed]",
       "text": [
        "<matplotlib.figure.Figure at 0x1073d9590>"
       ]
      }
     ],
     "prompt_number": 5
    },
    {
     "cell_type": "markdown",
     "metadata": {},
     "source": [
      "<h3>Convolve with simple preamp model <h3>"
     ]
    },
    {
     "cell_type": "code",
     "collapsed": false,
     "input": [
      "def pulse_shape_simple(x, tauR, tauD, A):\n",
      "    return A* (np.exp(-x/tauD)-np.exp(-x/tauR))"
     ],
     "language": "python",
     "metadata": {},
     "outputs": [],
     "prompt_number": 6
    },
    {
     "cell_type": "code",
     "collapsed": false,
     "input": [
      "t= slapd9mm.t\n",
      "ps= pulse_shape_simple(t, 6.0, 15.0, 1.0)\n",
      "pream= np.array(zip(t,ps), dtype=slapd9mm.dtype).view(np.recarray)\n",
      "plt.plot(pream.t, pream.p)\n",
      "plt.title('Preamp model');\n",
      "plt.xlabel('ns');"
     ],
     "language": "python",
     "metadata": {},
     "outputs": [
      {
       "metadata": {},
       "output_type": "display_data",
       "png": "[encoded data removed]",
       "text": [
        "<matplotlib.figure.Figure at 0x107477850>"
       ]
      }
     ],
     "prompt_number": 7
    },
    {
     "cell_type": "code",
     "collapsed": false,
     "input": [
      "pmslapd9mm= convolve_two_pulse_model(slapd9mm, pream)\n",
      "pmslapd3mm= convolve_two_pulse_model(slapd3mm, pream)\n",
      "pmstdapd9mm= convolve_two_pulse_model(stdapd9mm, pream)"
     ],
     "language": "python",
     "metadata": {},
     "outputs": [],
     "prompt_number": 8
    },
    {
     "cell_type": "code",
     "collapsed": false,
     "input": [
      "plt.plot(pmslapd9mm.t, pmslapd9mm.p/pmslapd9mm.p.max(), label='SL-APD 9mm');\n",
      "plt.plot(pmslapd9mm.t, pmstdapd9mm.p/pmstdapd9mm.p.max(), label='STD-APD 9mm');\n",
      "plt.plot(pmslapd9mm.t, pmslapd3mm.p/pmslapd3mm.p.max(), label='SL-APD 3mm');\n",
      "plt.xlim(0,200)\n",
      "plt.ylim(-0.2,1.1)\n",
      "plt.plot([0,200],[0,0], 'k-')\n",
      "plt.legend()\n",
      "plt.xlabel('ns');\n",
      "plt.title('APD+Preamp response time');"
     ],
     "language": "python",
     "metadata": {},
     "outputs": [
      {
       "metadata": {},
       "output_type": "display_data",
       "png": "[encoded data removed]",
       "text": [
        "<matplotlib.figure.Figure at 0x107446850>"
       ]
      }
     ],
     "prompt_number": 9
    },
    {
     "cell_type": "markdown",
     "metadata": {},
     "source": [
      "<h2>Photon arrival time using shower shape from GEANT4</h2>"
     ]
    },
    {
     "cell_type": "code",
     "collapsed": false,
     "input": [
      "# The timing population to sample from\n",
      "hexdata= {}\n",
      "for mat in ['lyso','baf2','csi']:\n",
      "    key = mat+'po9'\n",
      "    data= None\n",
      "    for i in xrange(1,6):\n",
      "        filename= '../data/timing/time_geom2_shower_square_%s_%02d.npy'%(key, i)\n",
      "        if data is None:\n",
      "            data = np.load(filename)\n",
      "        else:\n",
      "            data = np.concatenate((data, np.load(filename)))\n",
      "    print '%s population : %d'%(key,len(data))\n",
      "    hexdata[key] = data.view(np.recarray)"
     ],
     "language": "python",
     "metadata": {},
     "outputs": [
      {
       "output_type": "stream",
       "stream": "stdout",
       "text": [
        "lysopo9 population : 1000\n",
        "baf2po9 population : 1000\n",
        "csipo9 population : 1000"
       ]
      },
      {
       "output_type": "stream",
       "stream": "stdout",
       "text": [
        "\n"
       ]
      }
     ],
     "prompt_number": 10
    },
    {
     "cell_type": "markdown",
     "metadata": {},
     "source": [
      "<h2>Event pulse samples</h2>\n",
      "\n",
      "Draw a pulse shapes for a few events. We assume the photoelectron ratio is BaF2:LYSO:CsI = 1: 20: 1."
     ]
    },
    {
     "cell_type": "code",
     "collapsed": false,
     "input": [
      "## Scintillator decay time\n",
      "tau_baf2 = 0.9\n",
      "tau_lyso = 40\n",
      "tau_csi = 30\n",
      "## photoelectrons for these samples\n",
      "npe_baf2 = 1000\n",
      "npe_lyso = 20000\n",
      "npe_csi = 1000"
     ],
     "language": "python",
     "metadata": {},
     "outputs": [],
     "prompt_number": 11
    },
    {
     "cell_type": "code",
     "collapsed": false,
     "input": [
      "def draw_one_set(ax, dtpop, scinttau, npe0, pulsemodel, title):\n",
      "    draw_pulse_samples(ax, dtpop, npe0= npe0, scinttau= scinttau, jittersigma= 0.1, noise= 0, pulsemodel= pulsemodel, n=20,\n",
      "                       color='b', alpha=0.2)\n",
      "    ax.set_title(title)"
     ],
     "language": "python",
     "metadata": {},
     "outputs": [],
     "prompt_number": 12
    },
    {
     "cell_type": "markdown",
     "metadata": {},
     "source": [
      "<h3>SL APD 9mm pulse model</h3>"
     ]
    },
    {
     "cell_type": "code",
     "collapsed": false,
     "input": [
      "fig= plt.figure(figsize=(12,3.5))\n",
      "ax= fig.add_subplot(131)\n",
      "draw_one_set(ax, hexdata['baf2po9'].t, tau_baf2, npe_baf2, pmslapd9mm, 'BaF2')\n",
      "ax= fig.add_subplot(132)\n",
      "draw_one_set(ax, hexdata['lysopo9'].t, tau_lyso, npe_lyso, pmslapd9mm, 'LYSO')\n",
      "ax= fig.add_subplot(133)\n",
      "draw_one_set(ax, hexdata['csipo9'].t, tau_csi, npe_csi, pmslapd9mm, 'CsI')"
     ],
     "language": "python",
     "metadata": {},
     "outputs": [
      {
       "metadata": {},
       "output_type": "display_data",
       "png": "[encoded data removed]",
       "text": [
        "<matplotlib.figure.Figure at 0x107472a10>"
       ]
      }
     ],
     "prompt_number": 13
    },
    {
     "cell_type": "markdown",
     "metadata": {},
     "source": [
      "<h3>Standard APD 9mm pulse mode </h3>"
     ]
    },
    {
     "cell_type": "code",
     "collapsed": false,
     "input": [
      "fig= plt.figure(figsize=(12,3.5))\n",
      "ax= fig.add_subplot(131)\n",
      "draw_one_set(ax, hexdata['baf2po9'].t, tau_baf2, npe_baf2, pmstdapd9mm, 'BaF2')\n",
      "ax= fig.add_subplot(132)\n",
      "draw_one_set(ax, hexdata['lysopo9'].t, tau_lyso, npe_lyso, pmstdapd9mm, 'LYSO')\n",
      "ax= fig.add_subplot(133)\n",
      "draw_one_set(ax, hexdata['csipo9'].t, tau_csi, npe_csi, pmstdapd9mm, 'CsI')"
     ],
     "language": "python",
     "metadata": {},
     "outputs": [
      {
       "metadata": {},
       "output_type": "display_data",
       "png": "[encoded data removed]",
       "text": [
        "<matplotlib.figure.Figure at 0x1114c07d0>"
       ]
      }
     ],
     "prompt_number": 14
    },
    {
     "cell_type": "markdown",
     "metadata": {},
     "source": [
      "<h2>Timing precision</h2>\n",
      "\n",
      "Study the event timing precision for three crystals, three photodetector pulse models, and several different numbers of photoelectrons. For each event (accumulation of all photoelectrons), the timing is found by fitting a line around the point where the pulse height is closest to the threshold, and then solving the time at the threshold. The range of the linear fit is 10 points, which corresponds to 2.5 ns. \n",
      "\n",
      "The threshold is set at 10% of the maximum of each event."
     ]
    },
    {
     "cell_type": "code",
     "collapsed": false,
     "input": [
      "fthreshold = 0.1"
     ],
     "language": "python",
     "metadata": {},
     "outputs": [],
     "prompt_number": 15
    },
    {
     "cell_type": "code",
     "collapsed": false,
     "input": [
      "pelist = [10, 30, 100, 300, 1000, 3000, 10000, 30000]\n",
      "staudict = dict(baf2= tau_baf2, lyso= tau_lyso, csi= tau_csi)\n",
      "apdlist = [pmslapd9mm, pmstdapd9mm]\n",
      "apdnames = ['SL-APD9mm', 'Std-APD9mm']"
     ],
     "language": "python",
     "metadata": {},
     "outputs": [],
     "prompt_number": 16
    },
    {
     "cell_type": "code",
     "collapsed": false,
     "input": [
      "result= {}\n",
      "for mat in ['lyso','baf2','csi']:\n",
      "    for sur in ['po']:\n",
      "        for sd, apdname, apdmodel in zip(['9','9'],apdnames,apdlist):\n",
      "            key = mat+sur+sd\n",
      "            print key, apdname,\n",
      "            tpres = []\n",
      "            tpres_err = []\n",
      "            dtpop = hexdata[key]\n",
      "            for npe in pelist:\n",
      "                print npe,\n",
      "                rand.seed(0)\n",
      "                tot= timing_samples(dtpop.t, npe, staudict[mat], jittersigma= 0.1, pulsemodel= apdmodel,\n",
      "                                    noise=0, fthreshold= fthreshold, n= 1000)\n",
      "                rms= np.sqrt(tot.var())\n",
      "                tpres.append(rms)\n",
      "                tpres_err.append(rms/np.sqrt(2*len(tot)))\n",
      "            print\n",
      "            rkey= key+':'+apdname\n",
      "            result[rkey]= np.array(tpres)\n",
      "            result[rkey+'_err']= np.array(tpres_err)"
     ],
     "language": "python",
     "metadata": {},
     "outputs": [
      {
       "output_type": "stream",
       "stream": "stdout",
       "text": [
        "lysopo9 SL-APD9mm 10 "
       ]
      },
      {
       "output_type": "stream",
       "stream": "stdout",
       "text": [
        "30 "
       ]
      },
      {
       "output_type": "stream",
       "stream": "stdout",
       "text": [
        "100 "
       ]
      },
      {
       "output_type": "stream",
       "stream": "stdout",
       "text": [
        "300 "
       ]
      },
      {
       "output_type": "stream",
       "stream": "stdout",
       "text": [
        "1000 "
       ]
      },
      {
       "output_type": "stream",
       "stream": "stdout",
       "text": [
        "3000 "
       ]
      },
      {
       "output_type": "stream",
       "stream": "stdout",
       "text": [
        "10000 "
       ]
      },
      {
       "output_type": "stream",
       "stream": "stdout",
       "text": [
        "30000\n"
       ]
      },
      {
       "output_type": "stream",
       "stream": "stdout",
       "text": [
        "lysopo9 Std-APD9mm 10 "
       ]
      },
      {
       "output_type": "stream",
       "stream": "stdout",
       "text": [
        "30 "
       ]
      },
      {
       "output_type": "stream",
       "stream": "stdout",
       "text": [
        "100 "
       ]
      },
      {
       "output_type": "stream",
       "stream": "stdout",
       "text": [
        "300 "
       ]
      },
      {
       "output_type": "stream",
       "stream": "stdout",
       "text": [
        "1000 "
       ]
      },
      {
       "output_type": "stream",
       "stream": "stdout",
       "text": [
        "3000 "
       ]
      },
      {
       "output_type": "stream",
       "stream": "stdout",
       "text": [
        "10000 "
       ]
      },
      {
       "output_type": "stream",
       "stream": "stdout",
       "text": [
        "30000\n"
       ]
      },
      {
       "output_type": "stream",
       "stream": "stdout",
       "text": [
        "baf2po9 SL-APD9mm 10 "
       ]
      },
      {
       "output_type": "stream",
       "stream": "stdout",
       "text": [
        "30 "
       ]
      },
      {
       "output_type": "stream",
       "stream": "stdout",
       "text": [
        "100 "
       ]
      },
      {
       "output_type": "stream",
       "stream": "stdout",
       "text": [
        "300 "
       ]
      },
      {
       "output_type": "stream",
       "stream": "stdout",
       "text": [
        "1000 "
       ]
      },
      {
       "output_type": "stream",
       "stream": "stdout",
       "text": [
        "3000 "
       ]
      },
      {
       "output_type": "stream",
       "stream": "stdout",
       "text": [
        "10000 "
       ]
      },
      {
       "output_type": "stream",
       "stream": "stdout",
       "text": [
        "30000\n"
       ]
      },
      {
       "output_type": "stream",
       "stream": "stdout",
       "text": [
        "baf2po9 Std-APD9mm 10 "
       ]
      },
      {
       "output_type": "stream",
       "stream": "stdout",
       "text": [
        "30 "
       ]
      },
      {
       "output_type": "stream",
       "stream": "stdout",
       "text": [
        "100 "
       ]
      },
      {
       "output_type": "stream",
       "stream": "stdout",
       "text": [
        "300 "
       ]
      },
      {
       "output_type": "stream",
       "stream": "stdout",
       "text": [
        "1000 "
       ]
      },
      {
       "output_type": "stream",
       "stream": "stdout",
       "text": [
        "3000 "
       ]
      },
      {
       "output_type": "stream",
       "stream": "stdout",
       "text": [
        "10000 "
       ]
      },
      {
       "output_type": "stream",
       "stream": "stdout",
       "text": [
        "30000\n"
       ]
      },
      {
       "output_type": "stream",
       "stream": "stdout",
       "text": [
        "csipo9 SL-APD9mm 10 "
       ]
      },
      {
       "output_type": "stream",
       "stream": "stdout",
       "text": [
        "30 "
       ]
      },
      {
       "output_type": "stream",
       "stream": "stdout",
       "text": [
        "100 "
       ]
      },
      {
       "output_type": "stream",
       "stream": "stdout",
       "text": [
        "300 "
       ]
      },
      {
       "output_type": "stream",
       "stream": "stdout",
       "text": [
        "1000 "
       ]
      },
      {
       "output_type": "stream",
       "stream": "stdout",
       "text": [
        "3000 "
       ]
      },
      {
       "output_type": "stream",
       "stream": "stdout",
       "text": [
        "10000 "
       ]
      },
      {
       "output_type": "stream",
       "stream": "stdout",
       "text": [
        "30000\n"
       ]
      },
      {
       "output_type": "stream",
       "stream": "stdout",
       "text": [
        "csipo9 Std-APD9mm 10 "
       ]
      },
      {
       "output_type": "stream",
       "stream": "stdout",
       "text": [
        "30 "
       ]
      },
      {
       "output_type": "stream",
       "stream": "stdout",
       "text": [
        "100 "
       ]
      },
      {
       "output_type": "stream",
       "stream": "stdout",
       "text": [
        "300 "
       ]
      },
      {
       "output_type": "stream",
       "stream": "stdout",
       "text": [
        "1000 "
       ]
      },
      {
       "output_type": "stream",
       "stream": "stdout",
       "text": [
        "3000 "
       ]
      },
      {
       "output_type": "stream",
       "stream": "stdout",
       "text": [
        "10000 "
       ]
      },
      {
       "output_type": "stream",
       "stream": "stdout",
       "text": [
        "30000\n"
       ]
      }
     ],
     "prompt_number": 17
    },
    {
     "cell_type": "code",
     "collapsed": false,
     "input": [
      "result['npelist'] = pelist"
     ],
     "language": "python",
     "metadata": {},
     "outputs": [],
     "prompt_number": 18
    },
    {
     "cell_type": "code",
     "collapsed": false,
     "input": [
      "pickle.dump(result, open('../data/timing/tprecision_square_preamp_shower_geocolls2.p', 'wb'))"
     ],
     "language": "python",
     "metadata": {},
     "outputs": [],
     "prompt_number": 19
    },
    {
     "cell_type": "code",
     "collapsed": false,
     "input": [
      "result.keys()"
     ],
     "language": "python",
     "metadata": {},
     "outputs": [
      {
       "metadata": {},
       "output_type": "pyout",
       "prompt_number": 20,
       "text": [
        "['lysopo9:SL-APD9mm_err',\n",
        " 'csipo9:Std-APD9mm_err',\n",
        " 'csipo9:SL-APD9mm_err',\n",
        " 'baf2po9:Std-APD9mm_err',\n",
        " 'baf2po9:SL-APD9mm_err',\n",
        " 'baf2po9:SL-APD9mm',\n",
        " 'csipo9:SL-APD9mm',\n",
        " 'baf2po9:Std-APD9mm',\n",
        " 'lysopo9:SL-APD9mm',\n",
        " 'npelist',\n",
        " 'csipo9:Std-APD9mm',\n",
        " 'lysopo9:Std-APD9mm',\n",
        " 'lysopo9:Std-APD9mm_err']"
       ]
      }
     ],
     "prompt_number": 20
    },
    {
     "cell_type": "code",
     "collapsed": false,
     "input": [
      "result['baf2po9:SL-APD9mm']"
     ],
     "language": "python",
     "metadata": {},
     "outputs": [
      {
       "metadata": {},
       "output_type": "pyout",
       "prompt_number": 21,
       "text": [
        "array([ 1.08046128,  0.56386589,  0.29729672,  0.18456913,  0.12546381,\n",
        "        0.10541158,  0.09318314,  0.0915265 ])"
       ]
      }
     ],
     "prompt_number": 21
    },
    {
     "cell_type": "code",
     "collapsed": false,
     "input": [
      "result['baf2po9:Std-APD9mm']"
     ],
     "language": "python",
     "metadata": {},
     "outputs": [
      {
       "metadata": {},
       "output_type": "pyout",
       "prompt_number": 22,
       "text": [
        "array([ 1.25245792,  0.65647229,  0.35680028,  0.21578209,  0.14691788,\n",
        "        0.12339524,  0.1093055 ,  0.10631526])"
       ]
      }
     ],
     "prompt_number": 22
    },
    {
     "cell_type": "code",
     "collapsed": false,
     "input": [
      "pelist"
     ],
     "language": "python",
     "metadata": {},
     "outputs": [
      {
       "metadata": {},
       "output_type": "pyout",
       "prompt_number": 23,
       "text": [
        "[10, 30, 100, 300, 1000, 3000, 10000, 30000]"
       ]
      }
     ],
     "prompt_number": 23
    },
    {
     "cell_type": "code",
     "collapsed": false,
     "input": [],
     "language": "python",
     "metadata": {},
     "outputs": []
    }
   ],
   "metadata": {}
  }
 ]
}